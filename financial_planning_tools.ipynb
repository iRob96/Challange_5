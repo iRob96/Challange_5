{
 "cells": [
  {
   "cell_type": "markdown",
   "metadata": {},
   "source": [
    "# Financial Planning with APIs and Simulations\n",
    "\n",
    "In this Challenge, you’ll create two financial analysis tools by using a single Jupyter notebook:\n",
    "\n",
    "Part 1: A financial planner for emergencies. The members will be able to use this tool to visualize their current savings. The members can then determine if they have enough reserves for an emergency fund.\n",
    "\n",
    "Part 2: A financial planner for retirement. This tool will forecast the performance of their retirement portfolio in 30 years. To do this, the tool will make an Alpaca API call via the Alpaca SDK to get historical price data for use in Monte Carlo simulations.\n",
    "\n",
    "You’ll use the information from the Monte Carlo simulation to answer questions about the portfolio in your Jupyter notebook.\n",
    "\n"
   ]
  },
  {
   "cell_type": "code",
   "execution_count": 17,
   "metadata": {},
   "outputs": [],
   "source": [
    "# Import the required libraries and dependencies\n",
    "import os\n",
    "import requests\n",
    "import json\n",
    "import pandas as pd\n",
    "from dotenv import load_dotenv\n",
    "import alpaca_trade_api as tradeapi\n",
    "from MCForecastTools import MCSimulation\n",
    "\n",
    "%matplotlib inline"
   ]
  },
  {
   "cell_type": "code",
   "execution_count": 18,
   "metadata": {
    "tags": []
   },
   "outputs": [
    {
     "data": {
      "text/plain": [
       "True"
      ]
     },
     "execution_count": 18,
     "metadata": {},
     "output_type": "execute_result"
    }
   ],
   "source": [
    "# Load the environment variables from the .env file\n",
    "#by calling the load_dotenv function\n",
    "load_dotenv()"
   ]
  },
  {
   "cell_type": "markdown",
   "metadata": {},
   "source": [
    "## Part 1: Create a Financial Planner for Emergencies"
   ]
  },
  {
   "cell_type": "markdown",
   "metadata": {},
   "source": [
    "### Evaluate the Cryptocurrency Wallet by Using the Requests Library\n",
    "\n",
    "In this section, you’ll determine the current value of a member’s cryptocurrency wallet. You’ll collect the current prices for the Bitcoin and Ethereum cryptocurrencies by using the Python Requests library. For the prototype, you’ll assume that the member holds the 1.2 Bitcoins (BTC) and 5.3 Ethereum coins (ETH). To do all this, complete the following steps:\n",
    "\n",
    "1. Create a variable named `monthly_income`, and set its value to `12000`.\n",
    "\n",
    "2. Use the Requests library to get the current price (in US dollars) of Bitcoin (BTC) and Ethereum (ETH) by using the API endpoints that the starter code supplies.\n",
    "\n",
    "3. Navigate the JSON response object to access the current price of each coin, and store each in a variable.\n",
    "\n",
    "    > **Hint** Note the specific identifier for each cryptocurrency in the API JSON response. The Bitcoin identifier is `1`, and the Ethereum identifier is `1027`.\n",
    "\n",
    "4. Calculate the value, in US dollars, of the current amount of each cryptocurrency and of the entire cryptocurrency wallet.\n",
    "\n"
   ]
  },
  {
   "cell_type": "code",
   "execution_count": 19,
   "metadata": {},
   "outputs": [],
   "source": [
    "# The current number of coins for each cryptocurrency asset held in the portfolio.\n",
    "btc_coins = 1.2\n",
    "eth_coins = 5.3"
   ]
  },
  {
   "cell_type": "markdown",
   "metadata": {},
   "source": [
    "#### Step 1: Create a variable named `monthly_income`, and set its value to `12000`."
   ]
  },
  {
   "cell_type": "code",
   "execution_count": 20,
   "metadata": {},
   "outputs": [],
   "source": [
    "# The monthly amount for the member's household income\n",
    "monthly_income = 12000\n"
   ]
  },
  {
   "cell_type": "markdown",
   "metadata": {
    "tags": []
   },
   "source": [
    "#### Review the endpoint URLs for the API calls to Free Crypto API in order to get the current pricing information for both BTC and ETH."
   ]
  },
  {
   "cell_type": "code",
   "execution_count": 21,
   "metadata": {},
   "outputs": [],
   "source": [
    "# The Free Crypto API Call endpoint URLs for the held cryptocurrency assets\n",
    "btc_url = \"https://api.alternative.me/v2/ticker/Bitcoin/?convert=USD\"\n",
    "eth_url = \"https://api.alternative.me/v2/ticker/Ethereum/?convert=USD\""
   ]
  },
  {
   "cell_type": "markdown",
   "metadata": {},
   "source": [
    "#### Step 2. Use the Requests library to get the current price (in US dollars) of Bitcoin (BTC) and Ethereum (ETH) by using the API endpoints that the starter code supplied."
   ]
  },
  {
   "cell_type": "code",
   "execution_count": 22,
   "metadata": {},
   "outputs": [
    {
     "name": "stdout",
     "output_type": "stream",
     "text": [
      "{\n",
      "    \"data\": {\n",
      "        \"1\": {\n",
      "            \"circulating_supply\": 19111693,\n",
      "            \"id\": 1,\n",
      "            \"last_updated\": 1659578651,\n",
      "            \"max_supply\": 21000000,\n",
      "            \"name\": \"Bitcoin\",\n",
      "            \"quotes\": {\n",
      "                \"USD\": {\n",
      "                    \"market_cap\": 442723763472,\n",
      "                    \"percent_change_1h\": 0.468298759840622,\n",
      "                    \"percent_change_24h\": 1.45269737966255,\n",
      "                    \"percent_change_7d\": 1.14791276637299,\n",
      "                    \"percentage_change_1h\": 0.468298759840622,\n",
      "                    \"percentage_change_24h\": 1.45269737966255,\n",
      "                    \"percentage_change_7d\": 1.14791276637299,\n",
      "                    \"price\": 23172.0,\n",
      "                    \"volume_24h\": 42744760790\n",
      "                }\n",
      "            },\n",
      "            \"rank\": 1,\n",
      "            \"symbol\": \"BTC\",\n",
      "            \"total_supply\": 19111693,\n",
      "            \"website_slug\": \"bitcoin\"\n",
      "        }\n",
      "    },\n",
      "    \"metadata\": {\n",
      "        \"error\": null,\n",
      "        \"num_cryptocurrencies\": 3116,\n",
      "        \"timestamp\": 1659578651\n",
      "    }\n",
      "}\n"
     ]
    }
   ],
   "source": [
    "# Using the Python requests library, make an API call to access the current price of BTC\n",
    "btc_response = requests.get(btc_url).json()\n",
    "\n",
    "# Use the json.dumps function to review the response data from the API call\n",
    "# Use the indent and sort_keys parameters to make the response object readable\n",
    "print(json.dumps(btc_response, indent=4, sort_keys=True))\n"
   ]
  },
  {
   "cell_type": "code",
   "execution_count": 23,
   "metadata": {
    "tags": []
   },
   "outputs": [
    {
     "name": "stdout",
     "output_type": "stream",
     "text": [
      "{\n",
      "    \"data\": {\n",
      "        \"1027\": {\n",
      "            \"circulating_supply\": 119950067,\n",
      "            \"id\": 1027,\n",
      "            \"last_updated\": 1659578665,\n",
      "            \"max_supply\": 119950067,\n",
      "            \"name\": \"Ethereum\",\n",
      "            \"quotes\": {\n",
      "                \"USD\": {\n",
      "                    \"market_cap\": 198044528327,\n",
      "                    \"percent_change_1h\": 0.384999252965344,\n",
      "                    \"percent_change_24h\": 2.24128746836359,\n",
      "                    \"percent_change_7d\": 0.929335946434024,\n",
      "                    \"percentage_change_1h\": 0.384999252965344,\n",
      "                    \"percentage_change_24h\": 2.24128746836359,\n",
      "                    \"percentage_change_7d\": 0.929335946434024,\n",
      "                    \"price\": 1652.16,\n",
      "                    \"volume_24h\": 15613124897\n",
      "                }\n",
      "            },\n",
      "            \"rank\": 2,\n",
      "            \"symbol\": \"ETH\",\n",
      "            \"total_supply\": 119950067,\n",
      "            \"website_slug\": \"ethereum\"\n",
      "        }\n",
      "    },\n",
      "    \"metadata\": {\n",
      "        \"error\": null,\n",
      "        \"num_cryptocurrencies\": 3116,\n",
      "        \"timestamp\": 1659578665\n",
      "    }\n",
      "}\n"
     ]
    }
   ],
   "source": [
    "# Using the Python requests library, make an API call to access the current price ETH\n",
    "eth_response = requests.get(eth_url).json()\n",
    "\n",
    "# Use the json.dumps function to review the response data from the API call\n",
    "# Use the indent and sort_keys parameters to make the response object readable\n",
    "print(json.dumps(eth_response, indent=4, sort_keys=True))"
   ]
  },
  {
   "cell_type": "markdown",
   "metadata": {},
   "source": [
    "#### Step 3: Navigate the JSON response object to access the current price of each coin, and store each in a variable."
   ]
  },
  {
   "cell_type": "code",
   "execution_count": 24,
   "metadata": {},
   "outputs": [
    {
     "name": "stdout",
     "output_type": "stream",
     "text": [
      "23172.0\n"
     ]
    }
   ],
   "source": [
    "# Navigate the BTC response object to access the current price of BTC\n",
    "btc_price = btc_response[\"data\"][\"1\"][\"quotes\"][\"USD\"]['price']\n",
    "\n",
    "# Print the current price of BTC\n",
    "print(btc_price)\n"
   ]
  },
  {
   "cell_type": "code",
   "execution_count": 25,
   "metadata": {},
   "outputs": [
    {
     "name": "stdout",
     "output_type": "stream",
     "text": [
      "1652.16\n"
     ]
    }
   ],
   "source": [
    "# Navigate the BTC response object to access the current price of ETH\n",
    "eth_price = eth_response[\"data\"][\"1027\"][\"quotes\"][\"USD\"]['price']\n",
    "\n",
    "\n",
    "\n",
    "# Print the current price of ETH\n",
    "print(eth_price)\n"
   ]
  },
  {
   "cell_type": "markdown",
   "metadata": {},
   "source": [
    "### Step 4: Calculate the value, in US dollars, of the current amount of each cryptocurrency and of the entire cryptocurrency wallet."
   ]
  },
  {
   "cell_type": "code",
   "execution_count": 26,
   "metadata": {},
   "outputs": [
    {
     "name": "stdout",
     "output_type": "stream",
     "text": [
      "27806.399999999998\n"
     ]
    }
   ],
   "source": [
    "# Compute the current value of the BTC holding \n",
    "btc_value = btc_coins * btc_price\n",
    "\n",
    "# Print current value of your holding in BTC\n",
    "print(btc_value)\n"
   ]
  },
  {
   "cell_type": "code",
   "execution_count": 27,
   "metadata": {},
   "outputs": [
    {
     "name": "stdout",
     "output_type": "stream",
     "text": [
      "8756.448\n"
     ]
    }
   ],
   "source": [
    "# Compute the current value of the ETH holding \n",
    "eth_value = eth_coins * eth_price\n",
    "\n",
    "# Print current value of your holding in ETH\n",
    "print(eth_value)\n"
   ]
  },
  {
   "cell_type": "code",
   "execution_count": 28,
   "metadata": {
    "tags": []
   },
   "outputs": [
    {
     "name": "stdout",
     "output_type": "stream",
     "text": [
      "36562.848\n"
     ]
    }
   ],
   "source": [
    "# Compute the total value of the cryptocurrency wallet\n",
    "# Add the value of the BTC holding to the value of the ETH holding\n",
    "total_crypto_wallet = btc_value + eth_value\n",
    "\n",
    "# Print current cryptocurrency wallet balance\n",
    "print(total_crypto_wallet)\n"
   ]
  },
  {
   "cell_type": "markdown",
   "metadata": {
    "tags": []
   },
   "source": [
    "### Evaluate the Stock and Bond Holdings by Using the Alpaca SDK\n",
    "\n",
    "In this section, you’ll determine the current value of a member’s stock and bond holdings. You’ll make an API call to Alpaca via the Alpaca SDK to get the current closing prices of the SPDR S&P 500 ETF Trust (ticker: SPY) and of the iShares Core US Aggregate Bond ETF (ticker: AGG). For the prototype, assume that the member holds 110 shares of SPY, which represents the stock portion of their portfolio, and 200 shares of AGG, which represents the bond portion. To do all this, complete the following steps:\n",
    "\n",
    "1. In the `Starter_Code` folder, create an environment file (`.env`) to store the values of your Alpaca API key and Alpaca secret key.\n",
    "\n",
    "2. Set the variables for the Alpaca API and secret keys. Using the Alpaca SDK, create the Alpaca `tradeapi.REST` object. In this object, include the parameters for the Alpaca API key, the secret key, and the version number.\n",
    "\n",
    "3. Set the following parameters for the Alpaca API call:\n",
    "\n",
    "    - `tickers`: Use the tickers for the member’s stock and bond holdings.\n",
    "\n",
    "    - `timeframe`: Use a time frame of one day.\n",
    "\n",
    "    - `start_date` and `end_date`: Use the same date for these parameters, and format them with the date of the previous weekday (or `2020-08-07`). This is because you want the one closing price for the most-recent trading day.\n",
    "\n",
    "4. Get the current closing prices for `SPY` and `AGG` by using the Alpaca `get_bars` function. Format the response as a Pandas DataFrame by including the `df` property at the end of the `get_bars` function.\n",
    "\n",
    "5. Navigating the Alpaca response DataFrame, select the `SPY` and `AGG` closing prices, and store them as variables.\n",
    "\n",
    "6. Calculate the value, in US dollars, of the current amount of shares in each of the stock and bond portions of the portfolio, and print the results.\n"
   ]
  },
  {
   "cell_type": "markdown",
   "metadata": {},
   "source": [
    "#### Review the total number of shares held in both (SPY) and (AGG)."
   ]
  },
  {
   "cell_type": "code",
   "execution_count": 29,
   "metadata": {},
   "outputs": [],
   "source": [
    "# Current amount of shares held in both the stock (SPY) and bond (AGG) portion of the portfolio.\n",
    "spy_shares = 110\n",
    "agg_shares = 200\n"
   ]
  },
  {
   "cell_type": "markdown",
   "metadata": {},
   "source": [
    "#### Step 1: In the `Starter_Code` folder, create an environment file (`.env`) to store the values of your Alpaca API key and Alpaca secret key."
   ]
  },
  {
   "cell_type": "markdown",
   "metadata": {
    "tags": []
   },
   "source": [
    "#### Step 2: Set the variables for the Alpaca API and secret keys. Using the Alpaca SDK, create the Alpaca `tradeapi.REST` object. In this object, include the parameters for the Alpaca API key, the secret key, and the version number."
   ]
  },
  {
   "cell_type": "code",
   "execution_count": 33,
   "metadata": {
    "tags": []
   },
   "outputs": [],
   "source": [
    "# Set the variables for the Alpaca API and secret keys\n",
    "alpaca_api_key =os.getenv(\"ALPACA_API_KEY\")\n",
    "alpaca_secret_key =os.getenv(\"ALPACA_SECRET_KEY\")\n",
    "\n",
    "\n",
    "\n",
    "# Create the Alpaca tradeapi.REST object\n",
    "alpaca=tradeapi.REST(alpaca_api_key, alpaca_secret_key, api_version=\"v2\")\n",
    "\n",
    "\n"
   ]
  },
  {
   "cell_type": "markdown",
   "metadata": {
    "tags": []
   },
   "source": [
    "#### Step 3: Set the following parameters for the Alpaca API call:\n",
    "\n",
    "- `tickers`: Use the tickers for the member’s stock and bond holdings.\n",
    "\n",
    "- `timeframe`: Use a time frame of one day.\n",
    "\n",
    "- `start_date` and `end_date`: Use the same date for these parameters, and format them with the date of the previous weekday (or `2020-08-07`). This is because you want the one closing price for the most-recent trading day.\n"
   ]
  },
  {
   "cell_type": "code",
   "execution_count": 42,
   "metadata": {
    "tags": []
   },
   "outputs": [],
   "source": [
    "# Set the tickers for both the bond and stock portion of the portfolio\n",
    "tickers = [\"SPY\", \"AGG\"]\n",
    "\n",
    "# Set timeframe to 1Day\n",
    "timeframe = \"1Day\"\n",
    "\n",
    "# Format current date as ISO format\n",
    "# Set both the start and end date at the date of your prior weekday \n",
    "# This will give you the closing price of the previous trading day\n",
    "# Alternatively you can use a start and end date of 2020-08-07\n",
    "start_date=pd.Timestamp(\"2020-08-07\", tz=\"America/New_York\").isoformat()\n",
    "end_date=pd.Timestamp(\"2020-08-07\", tz=\"America/New_York\").isoformat()\n"
   ]
  },
  {
   "cell_type": "markdown",
   "metadata": {},
   "source": [
    "#### Step 4: Get the current closing prices for `SPY` and `AGG` by using the Alpaca `get_bars` function. Format the response as a Pandas DataFrame by including the `df` property at the end of the `get_bars` function."
   ]
  },
  {
   "cell_type": "code",
   "execution_count": 47,
   "metadata": {},
   "outputs": [
    {
     "data": {
      "text/html": [
       "<div>\n",
       "<style scoped>\n",
       "    .dataframe tbody tr th:only-of-type {\n",
       "        vertical-align: middle;\n",
       "    }\n",
       "\n",
       "    .dataframe tbody tr th {\n",
       "        vertical-align: top;\n",
       "    }\n",
       "\n",
       "    .dataframe thead tr th {\n",
       "        text-align: left;\n",
       "    }\n",
       "\n",
       "    .dataframe thead tr:last-of-type th {\n",
       "        text-align: right;\n",
       "    }\n",
       "</style>\n",
       "<table border=\"1\" class=\"dataframe\">\n",
       "  <thead>\n",
       "    <tr>\n",
       "      <th></th>\n",
       "      <th colspan=\"7\" halign=\"left\">SPY</th>\n",
       "      <th colspan=\"7\" halign=\"left\">AGG</th>\n",
       "    </tr>\n",
       "    <tr>\n",
       "      <th></th>\n",
       "      <th>open</th>\n",
       "      <th>high</th>\n",
       "      <th>low</th>\n",
       "      <th>close</th>\n",
       "      <th>volume</th>\n",
       "      <th>trade_count</th>\n",
       "      <th>vwap</th>\n",
       "      <th>open</th>\n",
       "      <th>high</th>\n",
       "      <th>low</th>\n",
       "      <th>close</th>\n",
       "      <th>volume</th>\n",
       "      <th>trade_count</th>\n",
       "      <th>vwap</th>\n",
       "    </tr>\n",
       "    <tr>\n",
       "      <th>timestamp</th>\n",
       "      <th></th>\n",
       "      <th></th>\n",
       "      <th></th>\n",
       "      <th></th>\n",
       "      <th></th>\n",
       "      <th></th>\n",
       "      <th></th>\n",
       "      <th></th>\n",
       "      <th></th>\n",
       "      <th></th>\n",
       "      <th></th>\n",
       "      <th></th>\n",
       "      <th></th>\n",
       "      <th></th>\n",
       "    </tr>\n",
       "  </thead>\n",
       "  <tbody>\n",
       "    <tr>\n",
       "      <th>2020-08-07 04:00:00+00:00</th>\n",
       "      <td>333.29</td>\n",
       "      <td>334.88</td>\n",
       "      <td>332.3</td>\n",
       "      <td>334.57</td>\n",
       "      <td>57282821</td>\n",
       "      <td>350100</td>\n",
       "      <td>333.800372</td>\n",
       "      <td>119.66</td>\n",
       "      <td>119.73</td>\n",
       "      <td>119.395</td>\n",
       "      <td>119.43</td>\n",
       "      <td>5559066</td>\n",
       "      <td>15246</td>\n",
       "      <td>119.475306</td>\n",
       "    </tr>\n",
       "  </tbody>\n",
       "</table>\n",
       "</div>"
      ],
      "text/plain": [
       "                              SPY                                   \\\n",
       "                             open    high    low   close    volume   \n",
       "timestamp                                                            \n",
       "2020-08-07 04:00:00+00:00  333.29  334.88  332.3  334.57  57282821   \n",
       "\n",
       "                                                      AGG                   \\\n",
       "                          trade_count        vwap    open    high      low   \n",
       "timestamp                                                                    \n",
       "2020-08-07 04:00:00+00:00      350100  333.800372  119.66  119.73  119.395   \n",
       "\n",
       "                                                                    \n",
       "                            close   volume trade_count        vwap  \n",
       "timestamp                                                           \n",
       "2020-08-07 04:00:00+00:00  119.43  5559066       15246  119.475306  "
      ]
     },
     "execution_count": 47,
     "metadata": {},
     "output_type": "execute_result"
    }
   ],
   "source": [
    "# Use the Alpaca get_bars function to get current closing prices the portfolio\n",
    "# Be sure to set the `df` property after the function to format the response object as a DataFrame\n",
    "prices_df= alpaca.get_bars(tickers,timeframe, start=start_date, end=end_date).df\n",
    "\n",
    "# Reorganize the DataFrame\n",
    "# Separate ticker data\n",
    "SPY = prices_df[prices_df['symbol']=='SPY'].drop('symbol', axis=1)\n",
    "AGG = prices_df[prices_df['symbol']=='AGG'].drop('symbol', axis=1)\n",
    "# Concatenate the ticker DataFrames\n",
    "prices_df= pd.concat([SPY,AGG],axis=1, keys=['SPY','AGG'])\n",
    "\n",
    "# Review the first 5 rows of the Alpaca DataFrame\n",
    "prices_df.head()\n"
   ]
  },
  {
   "cell_type": "markdown",
   "metadata": {},
   "source": [
    "#### Step 5: Navigating the Alpaca response DataFrame, select the `SPY` and `AGG` closing prices, and store them as variables."
   ]
  },
  {
   "cell_type": "code",
   "execution_count": 60,
   "metadata": {},
   "outputs": [
    {
     "name": "stdout",
     "output_type": "stream",
     "text": [
      "119.43\n"
     ]
    }
   ],
   "source": [
    "# Access the closing price for AGG from the Alpaca DataFrame\n",
    "# Converting the value to a floating point number\n",
    "agg_close_price = prices_df[\"AGG\"][\"close\"]\n",
    "agg_close_price=float(agg_close_price)\n",
    "# Print the AGG closing price\n",
    "print(agg_close_price)\n"
   ]
  },
  {
   "cell_type": "code",
   "execution_count": 59,
   "metadata": {},
   "outputs": [
    {
     "name": "stdout",
     "output_type": "stream",
     "text": [
      "334.57\n"
     ]
    }
   ],
   "source": [
    "# Access the closing price for SPY from the Alpaca DataFrame\n",
    "# Converting the value to a floating point number\n",
    "spy_close_price = prices_df[\"SPY\"][\"close\"]\n",
    "spy_close_price=float(spy_close_price)\n",
    "# Print the SPY closing price\n",
    "print(spy_close_price)\n"
   ]
  },
  {
   "cell_type": "markdown",
   "metadata": {},
   "source": [
    "#### Step 6: Calculate the value, in US dollars, of the current amount of shares in each of the stock and bond portions of the portfolio, and print the results."
   ]
  },
  {
   "cell_type": "code",
   "execution_count": 61,
   "metadata": {},
   "outputs": [
    {
     "name": "stdout",
     "output_type": "stream",
     "text": [
      "23886.0\n"
     ]
    }
   ],
   "source": [
    "# Calculate the current value of the bond portion of the portfolio\n",
    "agg_value = agg_shares * agg_close_price\n",
    "\n",
    "# Print the current value of the bond portfolio\n",
    "print(agg_value)\n"
   ]
  },
  {
   "cell_type": "code",
   "execution_count": 62,
   "metadata": {},
   "outputs": [
    {
     "name": "stdout",
     "output_type": "stream",
     "text": [
      "36802.7\n"
     ]
    }
   ],
   "source": [
    "# Calculate the current value of the stock portion of the portfolio\n",
    "spy_value = spy_shares * spy_close_price\n",
    "\n",
    "# Print the current value of the stock portfolio\n",
    "print(spy_value)\n"
   ]
  },
  {
   "cell_type": "code",
   "execution_count": 63,
   "metadata": {},
   "outputs": [
    {
     "name": "stdout",
     "output_type": "stream",
     "text": [
      "60688.7\n"
     ]
    }
   ],
   "source": [
    "# Calculate the total value of the stock and bond portion of the portfolio\n",
    "total_stocks_bonds = agg_value + spy_value\n",
    "\n",
    "# Print the current balance of the stock and bond portion of the portfolio\n",
    "print(total_stocks_bonds)\n"
   ]
  },
  {
   "cell_type": "code",
   "execution_count": 64,
   "metadata": {},
   "outputs": [
    {
     "name": "stdout",
     "output_type": "stream",
     "text": [
      "97251.548\n"
     ]
    }
   ],
   "source": [
    "# Calculate the total value of the member's entire savings portfolio\n",
    "# Add the value of the cryptocurrency walled to the value of the total stocks and bonds\n",
    "total_portfolio = total_stocks_bonds + total_crypto_wallet\n",
    "\n",
    "# Print current cryptocurrency wallet balance\n",
    "print(total_portfolio)\n"
   ]
  },
  {
   "cell_type": "markdown",
   "metadata": {
    "tags": []
   },
   "source": [
    "### Evaluate the Emergency Fund\n",
    "\n",
    "In this section, you’ll use the valuations for the cryptocurrency wallet and for the stock and bond portions of the portfolio to determine if the credit union member has enough savings to build an emergency fund into their financial plan. To do this, complete the following steps:\n",
    "\n",
    "1. Create a Python list named `savings_data` that has two elements. The first element contains the total value of the cryptocurrency wallet. The second element contains the total value of the stock and bond portions of the portfolio.\n",
    "\n",
    "2. Use the `savings_data` list to create a Pandas DataFrame named `savings_df`, and then display this DataFrame. The function to create the DataFrame should take the following three parameters:\n",
    "\n",
    "    - `savings_data`: Use the list that you just created.\n",
    "\n",
    "    - `columns`: Set this parameter equal to a Python list with a single value called `amount`.\n",
    "\n",
    "    - `index`: Set this parameter equal to a Python list with the values of `crypto` and `stock/bond`.\n",
    "\n",
    "3. Use the `savings_df` DataFrame to plot a pie chart that visualizes the composition of the member’s portfolio. The y-axis of the pie chart uses `amount`. Be sure to add a title.\n",
    "\n",
    "4. Using Python, determine if the current portfolio has enough to create an emergency fund as part of the member’s financial plan. Ideally, an emergency fund should equal to three times the member’s monthly income. To do this, implement the following steps:\n",
    "\n",
    "    1. Create a variable named `emergency_fund_value`, and set it equal to three times the value of the member’s `monthly_income` of $12000. (You set this earlier in Part 1).\n",
    "\n",
    "    2. Create a series of three if statements to determine if the member’s total portfolio is large enough to fund the emergency portfolio:\n",
    "\n",
    "        1. If the total portfolio value is greater than the emergency fund value, display a message congratulating the member for having enough money in this fund.\n",
    "\n",
    "        2. Else if the total portfolio value is equal to the emergency fund value, display a message congratulating the member on reaching this important financial goal.\n",
    "\n",
    "        3. Else the total portfolio is less than the emergency fund value, so display a message showing how many dollars away the member is from reaching the goal. (Subtract the total portfolio value from the emergency fund value.)\n"
   ]
  },
  {
   "cell_type": "markdown",
   "metadata": {},
   "source": [
    "#### Step 1: Create a Python list named `savings_data` that has two elements. The first element contains the total value of the cryptocurrency wallet. The second element contains the total value of the stock and bond portions of the portfolio."
   ]
  },
  {
   "cell_type": "code",
   "execution_count": 65,
   "metadata": {},
   "outputs": [
    {
     "name": "stdout",
     "output_type": "stream",
     "text": [
      "[36562.848, 60688.7]\n"
     ]
    }
   ],
   "source": [
    "# Consolidate financial assets data into a Python list\n",
    "savings_data = [total_crypto_wallet, total_stocks_bonds]\n",
    "\n",
    "# Review the Python list savings_data\n",
    "print(savings_data)\n",
    "    "
   ]
  },
  {
   "cell_type": "markdown",
   "metadata": {},
   "source": [
    "#### Step 2: Use the `savings_data` list to create a Pandas DataFrame named `savings_df`, and then display this DataFrame. The function to create the DataFrame should take the following three parameters:\n",
    "\n",
    "- `savings_data`: Use the list that you just created.\n",
    "\n",
    "- `columns`: Set this parameter equal to a Python list with a single value called `amount`.\n",
    "\n",
    "- `index`: Set this parameter equal to a Python list with the values of `crypto` and `stock/bond`.\n"
   ]
  },
  {
   "cell_type": "code",
   "execution_count": 99,
   "metadata": {},
   "outputs": [
    {
     "name": "stdout",
     "output_type": "stream",
     "text": [
      "                 amount\n",
      "crypto        36562.848\n",
      "stocks/bonds  60688.700\n"
     ]
    }
   ],
   "source": [
    "# Create a Pandas DataFrame called savings_df \n",
    "savings_df=pd.DataFrame(savings_data, columns=['amount'], index=['crypto', 'stocks/bonds'])\n",
    "\n",
    "# Display the savings_df DataFrame\n",
    "print(savings_df)\n"
   ]
  },
  {
   "cell_type": "markdown",
   "metadata": {},
   "source": [
    "#### Step 3: Use the `savings_df` DataFrame to plot a pie chart that visualizes the composition of the member’s portfolio. The y-axis of the pie chart uses `amount`. Be sure to add a title."
   ]
  },
  {
   "cell_type": "code",
   "execution_count": 100,
   "metadata": {},
   "outputs": [
    {
     "data": {
      "text/plain": [
       "<AxesSubplot:title={'center':'Total Portfolio'}, ylabel='amount'>"
      ]
     },
     "execution_count": 100,
     "metadata": {},
     "output_type": "execute_result"
    },
    {
     "data": {
      "image/png": "[encoded data removed]",
      "text/plain": [
       "<Figure size 432x288 with 1 Axes>"
      ]
     },
     "metadata": {},
     "output_type": "display_data"
    }
   ],
   "source": [
    "# Plot the total value of the member's portfolio (crypto and stock/bond) in a pie chart\n",
    "savings_df.plot.pie(y='amount', title=\"Total Portfolio\")\n"
   ]
  },
  {
   "cell_type": "markdown",
   "metadata": {},
   "source": [
    "#### Step 4: Using Python, determine if the current portfolio has enough to create an emergency fund as part of the member’s financial plan. Ideally, an emergency fund should equal to three times the member’s monthly income. To do this, implement the following steps:\n",
    "\n",
    "Step 1. Create a variable named `emergency_fund_value`, and set it equal to three times the value of the member’s `monthly_income` of 12000. (You set this earlier in Part 1).\n",
    "\n",
    "Step 2. Create a series of three if statements to determine if the member’s total portfolio is large enough to fund the emergency portfolio:\n",
    "\n",
    "* If the total portfolio value is greater than the emergency fund value, display a message congratulating the member for having enough money in this fund.\n",
    "\n",
    "* Else if the total portfolio value is equal to the emergency fund value, display a message congratulating the member on reaching this important financial goal.\n",
    "\n",
    "* Else the total portfolio is less than the emergency fund value, so display a message showing how many dollars away the member is from reaching the goal. (Subtract the total portfolio value from the emergency fund value.)\n"
   ]
  },
  {
   "cell_type": "markdown",
   "metadata": {},
   "source": [
    "##### Step 4-1: Create a variable named `emergency_fund_value`, and set it equal to three times the value of the member’s `monthly_income` of 12000. (You set this earlier in Part 1)."
   ]
  },
  {
   "cell_type": "code",
   "execution_count": 101,
   "metadata": {},
   "outputs": [
    {
     "name": "stdout",
     "output_type": "stream",
     "text": [
      "36000\n"
     ]
    }
   ],
   "source": [
    "# Create a variable named emergency_fund_value\n",
    "emergency_fund_value = 3 * monthly_income\n",
    "print(emergency_fund_value)"
   ]
  },
  {
   "cell_type": "markdown",
   "metadata": {},
   "source": [
    "##### Step 4-2: Create a series of three if statements to determine if the member’s total portfolio is large enough to fund the emergency portfolio:\n",
    "\n",
    "* If the total portfolio value is greater than the emergency fund value, display a message congratulating the member for having enough money in this fund.\n",
    "\n",
    "* Else if the total portfolio value is equal to the emergency fund value, display a message congratulating the member on reaching this important financial goal.\n",
    "\n",
    "* Else the total portfolio is less than the emergency fund value, so display a message showing how many dollars away the member is from reaching the goal. (Subtract the total portfolio value from the emergency fund value.)"
   ]
  },
  {
   "cell_type": "code",
   "execution_count": 108,
   "metadata": {},
   "outputs": [
    {
     "name": "stdout",
     "output_type": "stream",
     "text": [
      "Congrats on having enough for this fund!!\n",
      "total_portfolio-emergency_fund_value\n"
     ]
    }
   ],
   "source": [
    "# Evaluate the possibility of creating an emergency fund with 3 conditions:\n",
    "if total_portfolio > emergency_fund_value:\n",
    "    print('Congrats on having enough for this fund!!')\n",
    "elif total_portfolio == emergency_fund_value:\n",
    "    print('Congrats on reaching this financial goal!')\n",
    "else: total_portfolio < emergency_fund_value\n",
    "print(\"total_portfolio-emergency_fund_value\")\n",
    "\n"
   ]
  },
  {
   "cell_type": "markdown",
   "metadata": {},
   "source": [
    "## Part 2: Create a Financial Planner for Retirement"
   ]
  },
  {
   "cell_type": "markdown",
   "metadata": {
    "tags": []
   },
   "source": [
    "### Create the Monte Carlo Simulation\n",
    "\n",
    "In this section, you’ll use the MCForecastTools library to create a Monte Carlo simulation for the member’s savings portfolio. To do this, complete the following steps:\n",
    "\n",
    "1. Make an API call via the Alpaca SDK to get 3 years of historical closing prices for a traditional 60/40 portfolio split: 60% stocks (SPY) and 40% bonds (AGG).\n",
    "\n",
    "2. Run a Monte Carlo simulation of 500 samples and 30 years for the 60/40 portfolio, and then plot the results.The following image shows the overlay line plot resulting from a simulation with these characteristics. However, because a random number generator is used to run each live Monte Carlo simulation, your image will differ slightly from this exact image:\n",
    "\n",
    "![A screenshot depicts the resulting plot.](Images/5-4-monte-carlo-line-plot.png)\n",
    "\n",
    "3. Plot the probability distribution of the Monte Carlo simulation. Plot the probability distribution of the Monte Carlo simulation. The following image shows the histogram plot resulting from a simulation with these characteristics. However, because a random number generator is used to run each live Monte Carlo simulation, your image will differ slightly from this exact image:\n",
    "\n",
    "![A screenshot depicts the histogram plot.](Images/5-4-monte-carlo-histogram.png)\n",
    "\n",
    "4. Generate the summary statistics for the Monte Carlo simulation.\n",
    "\n"
   ]
  },
  {
   "cell_type": "markdown",
   "metadata": {},
   "source": [
    "#### Step 1: Make an API call via the Alpaca SDK to get 3 years of historical closing prices for a traditional 60/40 portfolio split: 60% stocks (SPY) and 40% bonds (AGG)."
   ]
  },
  {
   "cell_type": "code",
   "execution_count": 109,
   "metadata": {},
   "outputs": [],
   "source": [
    "# Set start and end dates of 3 years back from your current date\n",
    "# Alternatively, you can use an end date of 2020-08-07 and work 3 years back from that date \n",
    "start_date = pd.Timestamp(\"2019-08-07\", tz=\"America/New_York\").isoformat()\n",
    "end_date = pd.Timestamp(\"2022-08-07\", tz=\"America/New_York\").isoformat()"
   ]
  },
  {
   "cell_type": "code",
   "execution_count": 112,
   "metadata": {
    "tags": []
   },
   "outputs": [
    {
     "data": {
      "text/html": [
       "<div>\n",
       "<style scoped>\n",
       "    .dataframe tbody tr th:only-of-type {\n",
       "        vertical-align: middle;\n",
       "    }\n",
       "\n",
       "    .dataframe tbody tr th {\n",
       "        vertical-align: top;\n",
       "    }\n",
       "\n",
       "    .dataframe thead tr th {\n",
       "        text-align: left;\n",
       "    }\n",
       "\n",
       "    .dataframe thead tr:last-of-type th {\n",
       "        text-align: right;\n",
       "    }\n",
       "</style>\n",
       "<table border=\"1\" class=\"dataframe\">\n",
       "  <thead>\n",
       "    <tr>\n",
       "      <th></th>\n",
       "      <th colspan=\"7\" halign=\"left\">SPY</th>\n",
       "      <th colspan=\"7\" halign=\"left\">AGG</th>\n",
       "    </tr>\n",
       "    <tr>\n",
       "      <th></th>\n",
       "      <th>open</th>\n",
       "      <th>high</th>\n",
       "      <th>low</th>\n",
       "      <th>close</th>\n",
       "      <th>volume</th>\n",
       "      <th>trade_count</th>\n",
       "      <th>vwap</th>\n",
       "      <th>open</th>\n",
       "      <th>high</th>\n",
       "      <th>low</th>\n",
       "      <th>close</th>\n",
       "      <th>volume</th>\n",
       "      <th>trade_count</th>\n",
       "      <th>vwap</th>\n",
       "    </tr>\n",
       "    <tr>\n",
       "      <th>timestamp</th>\n",
       "      <th></th>\n",
       "      <th></th>\n",
       "      <th></th>\n",
       "      <th></th>\n",
       "      <th></th>\n",
       "      <th></th>\n",
       "      <th></th>\n",
       "      <th></th>\n",
       "      <th></th>\n",
       "      <th></th>\n",
       "      <th></th>\n",
       "      <th></th>\n",
       "      <th></th>\n",
       "      <th></th>\n",
       "    </tr>\n",
       "  </thead>\n",
       "  <tbody>\n",
       "    <tr>\n",
       "      <th>2019-08-07 04:00:00+00:00</th>\n",
       "      <td>284.40</td>\n",
       "      <td>288.8200</td>\n",
       "      <td>282.04</td>\n",
       "      <td>287.97</td>\n",
       "      <td>143723012</td>\n",
       "      <td>668446</td>\n",
       "      <td>286.311024</td>\n",
       "      <td>113.17</td>\n",
       "      <td>113.2900</td>\n",
       "      <td>112.610</td>\n",
       "      <td>112.68</td>\n",
       "      <td>9156551</td>\n",
       "      <td>37550</td>\n",
       "      <td>112.959111</td>\n",
       "    </tr>\n",
       "    <tr>\n",
       "      <th>2019-08-08 04:00:00+00:00</th>\n",
       "      <td>289.62</td>\n",
       "      <td>293.6200</td>\n",
       "      <td>289.01</td>\n",
       "      <td>293.62</td>\n",
       "      <td>88075904</td>\n",
       "      <td>406693</td>\n",
       "      <td>291.727950</td>\n",
       "      <td>112.51</td>\n",
       "      <td>112.8200</td>\n",
       "      <td>112.330</td>\n",
       "      <td>112.79</td>\n",
       "      <td>3707196</td>\n",
       "      <td>15027</td>\n",
       "      <td>112.586906</td>\n",
       "    </tr>\n",
       "    <tr>\n",
       "      <th>2019-08-09 04:00:00+00:00</th>\n",
       "      <td>292.59</td>\n",
       "      <td>293.2400</td>\n",
       "      <td>289.65</td>\n",
       "      <td>291.62</td>\n",
       "      <td>93729958</td>\n",
       "      <td>451157</td>\n",
       "      <td>291.732496</td>\n",
       "      <td>112.86</td>\n",
       "      <td>112.9500</td>\n",
       "      <td>112.575</td>\n",
       "      <td>112.64</td>\n",
       "      <td>2432292</td>\n",
       "      <td>9508</td>\n",
       "      <td>112.748706</td>\n",
       "    </tr>\n",
       "    <tr>\n",
       "      <th>2019-08-12 04:00:00+00:00</th>\n",
       "      <td>289.90</td>\n",
       "      <td>291.6052</td>\n",
       "      <td>287.02</td>\n",
       "      <td>288.07</td>\n",
       "      <td>60895115</td>\n",
       "      <td>324202</td>\n",
       "      <td>288.889779</td>\n",
       "      <td>112.93</td>\n",
       "      <td>113.1850</td>\n",
       "      <td>112.870</td>\n",
       "      <td>113.05</td>\n",
       "      <td>2246369</td>\n",
       "      <td>8960</td>\n",
       "      <td>113.035477</td>\n",
       "    </tr>\n",
       "    <tr>\n",
       "      <th>2019-08-13 04:00:00+00:00</th>\n",
       "      <td>287.78</td>\n",
       "      <td>294.1500</td>\n",
       "      <td>287.36</td>\n",
       "      <td>292.55</td>\n",
       "      <td>100693314</td>\n",
       "      <td>490220</td>\n",
       "      <td>292.076183</td>\n",
       "      <td>113.15</td>\n",
       "      <td>113.1504</td>\n",
       "      <td>112.785</td>\n",
       "      <td>112.89</td>\n",
       "      <td>3048591</td>\n",
       "      <td>13159</td>\n",
       "      <td>112.925793</td>\n",
       "    </tr>\n",
       "  </tbody>\n",
       "</table>\n",
       "</div>"
      ],
      "text/plain": [
       "                              SPY                                       \\\n",
       "                             open      high     low   close     volume   \n",
       "timestamp                                                                \n",
       "2019-08-07 04:00:00+00:00  284.40  288.8200  282.04  287.97  143723012   \n",
       "2019-08-08 04:00:00+00:00  289.62  293.6200  289.01  293.62   88075904   \n",
       "2019-08-09 04:00:00+00:00  292.59  293.2400  289.65  291.62   93729958   \n",
       "2019-08-12 04:00:00+00:00  289.90  291.6052  287.02  288.07   60895115   \n",
       "2019-08-13 04:00:00+00:00  287.78  294.1500  287.36  292.55  100693314   \n",
       "\n",
       "                                                      AGG                     \\\n",
       "                          trade_count        vwap    open      high      low   \n",
       "timestamp                                                                      \n",
       "2019-08-07 04:00:00+00:00      668446  286.311024  113.17  113.2900  112.610   \n",
       "2019-08-08 04:00:00+00:00      406693  291.727950  112.51  112.8200  112.330   \n",
       "2019-08-09 04:00:00+00:00      451157  291.732496  112.86  112.9500  112.575   \n",
       "2019-08-12 04:00:00+00:00      324202  288.889779  112.93  113.1850  112.870   \n",
       "2019-08-13 04:00:00+00:00      490220  292.076183  113.15  113.1504  112.785   \n",
       "\n",
       "                                                                    \n",
       "                            close   volume trade_count        vwap  \n",
       "timestamp                                                           \n",
       "2019-08-07 04:00:00+00:00  112.68  9156551       37550  112.959111  \n",
       "2019-08-08 04:00:00+00:00  112.79  3707196       15027  112.586906  \n",
       "2019-08-09 04:00:00+00:00  112.64  2432292        9508  112.748706  \n",
       "2019-08-12 04:00:00+00:00  113.05  2246369        8960  113.035477  \n",
       "2019-08-13 04:00:00+00:00  112.89  3048591       13159  112.925793  "
      ]
     },
     "metadata": {},
     "output_type": "display_data"
    },
    {
     "data": {
      "text/html": [
       "<div>\n",
       "<style scoped>\n",
       "    .dataframe tbody tr th:only-of-type {\n",
       "        vertical-align: middle;\n",
       "    }\n",
       "\n",
       "    .dataframe tbody tr th {\n",
       "        vertical-align: top;\n",
       "    }\n",
       "\n",
       "    .dataframe thead tr th {\n",
       "        text-align: left;\n",
       "    }\n",
       "\n",
       "    .dataframe thead tr:last-of-type th {\n",
       "        text-align: right;\n",
       "    }\n",
       "</style>\n",
       "<table border=\"1\" class=\"dataframe\">\n",
       "  <thead>\n",
       "    <tr>\n",
       "      <th></th>\n",
       "      <th colspan=\"7\" halign=\"left\">SPY</th>\n",
       "      <th colspan=\"7\" halign=\"left\">AGG</th>\n",
       "    </tr>\n",
       "    <tr>\n",
       "      <th></th>\n",
       "      <th>open</th>\n",
       "      <th>high</th>\n",
       "      <th>low</th>\n",
       "      <th>close</th>\n",
       "      <th>volume</th>\n",
       "      <th>trade_count</th>\n",
       "      <th>vwap</th>\n",
       "      <th>open</th>\n",
       "      <th>high</th>\n",
       "      <th>low</th>\n",
       "      <th>close</th>\n",
       "      <th>volume</th>\n",
       "      <th>trade_count</th>\n",
       "      <th>vwap</th>\n",
       "    </tr>\n",
       "    <tr>\n",
       "      <th>timestamp</th>\n",
       "      <th></th>\n",
       "      <th></th>\n",
       "      <th></th>\n",
       "      <th></th>\n",
       "      <th></th>\n",
       "      <th></th>\n",
       "      <th></th>\n",
       "      <th></th>\n",
       "      <th></th>\n",
       "      <th></th>\n",
       "      <th></th>\n",
       "      <th></th>\n",
       "      <th></th>\n",
       "      <th></th>\n",
       "    </tr>\n",
       "  </thead>\n",
       "  <tbody>\n",
       "    <tr>\n",
       "      <th>2022-08-01 04:00:00+00:00</th>\n",
       "      <td>409.16</td>\n",
       "      <td>413.41</td>\n",
       "      <td>408.40</td>\n",
       "      <td>410.77</td>\n",
       "      <td>69633616</td>\n",
       "      <td>516221</td>\n",
       "      <td>411.079113</td>\n",
       "      <td>103.97</td>\n",
       "      <td>104.305</td>\n",
       "      <td>103.910</td>\n",
       "      <td>104.23</td>\n",
       "      <td>7485387</td>\n",
       "      <td>31215</td>\n",
       "      <td>104.156518</td>\n",
       "    </tr>\n",
       "    <tr>\n",
       "      <th>2022-08-02 04:00:00+00:00</th>\n",
       "      <td>409.03</td>\n",
       "      <td>413.00</td>\n",
       "      <td>406.82</td>\n",
       "      <td>408.06</td>\n",
       "      <td>63113622</td>\n",
       "      <td>502751</td>\n",
       "      <td>409.635855</td>\n",
       "      <td>104.27</td>\n",
       "      <td>104.345</td>\n",
       "      <td>103.135</td>\n",
       "      <td>103.16</td>\n",
       "      <td>6866199</td>\n",
       "      <td>38447</td>\n",
       "      <td>103.522777</td>\n",
       "    </tr>\n",
       "    <tr>\n",
       "      <th>2022-08-03 04:00:00+00:00</th>\n",
       "      <td>410.40</td>\n",
       "      <td>415.68</td>\n",
       "      <td>410.00</td>\n",
       "      <td>414.45</td>\n",
       "      <td>67573063</td>\n",
       "      <td>463932</td>\n",
       "      <td>413.267159</td>\n",
       "      <td>103.03</td>\n",
       "      <td>103.640</td>\n",
       "      <td>102.720</td>\n",
       "      <td>103.62</td>\n",
       "      <td>6254853</td>\n",
       "      <td>23383</td>\n",
       "      <td>103.276553</td>\n",
       "    </tr>\n",
       "    <tr>\n",
       "      <th>2022-08-04 04:00:00+00:00</th>\n",
       "      <td>414.25</td>\n",
       "      <td>415.09</td>\n",
       "      <td>412.44</td>\n",
       "      <td>414.17</td>\n",
       "      <td>45565581</td>\n",
       "      <td>364658</td>\n",
       "      <td>414.080458</td>\n",
       "      <td>103.67</td>\n",
       "      <td>103.890</td>\n",
       "      <td>103.570</td>\n",
       "      <td>103.87</td>\n",
       "      <td>5198972</td>\n",
       "      <td>17078</td>\n",
       "      <td>103.727981</td>\n",
       "    </tr>\n",
       "    <tr>\n",
       "      <th>2022-08-05 04:00:00+00:00</th>\n",
       "      <td>409.68</td>\n",
       "      <td>414.15</td>\n",
       "      <td>409.60</td>\n",
       "      <td>413.47</td>\n",
       "      <td>56751151</td>\n",
       "      <td>455450</td>\n",
       "      <td>412.292366</td>\n",
       "      <td>102.81</td>\n",
       "      <td>102.830</td>\n",
       "      <td>102.520</td>\n",
       "      <td>102.71</td>\n",
       "      <td>4847064</td>\n",
       "      <td>16418</td>\n",
       "      <td>102.711038</td>\n",
       "    </tr>\n",
       "  </tbody>\n",
       "</table>\n",
       "</div>"
      ],
      "text/plain": [
       "                              SPY                                    \\\n",
       "                             open    high     low   close    volume   \n",
       "timestamp                                                             \n",
       "2022-08-01 04:00:00+00:00  409.16  413.41  408.40  410.77  69633616   \n",
       "2022-08-02 04:00:00+00:00  409.03  413.00  406.82  408.06  63113622   \n",
       "2022-08-03 04:00:00+00:00  410.40  415.68  410.00  414.45  67573063   \n",
       "2022-08-04 04:00:00+00:00  414.25  415.09  412.44  414.17  45565581   \n",
       "2022-08-05 04:00:00+00:00  409.68  414.15  409.60  413.47  56751151   \n",
       "\n",
       "                                                      AGG                    \\\n",
       "                          trade_count        vwap    open     high      low   \n",
       "timestamp                                                                     \n",
       "2022-08-01 04:00:00+00:00      516221  411.079113  103.97  104.305  103.910   \n",
       "2022-08-02 04:00:00+00:00      502751  409.635855  104.27  104.345  103.135   \n",
       "2022-08-03 04:00:00+00:00      463932  413.267159  103.03  103.640  102.720   \n",
       "2022-08-04 04:00:00+00:00      364658  414.080458  103.67  103.890  103.570   \n",
       "2022-08-05 04:00:00+00:00      455450  412.292366  102.81  102.830  102.520   \n",
       "\n",
       "                                                                    \n",
       "                            close   volume trade_count        vwap  \n",
       "timestamp                                                           \n",
       "2022-08-01 04:00:00+00:00  104.23  7485387       31215  104.156518  \n",
       "2022-08-02 04:00:00+00:00  103.16  6866199       38447  103.522777  \n",
       "2022-08-03 04:00:00+00:00  103.62  6254853       23383  103.276553  \n",
       "2022-08-04 04:00:00+00:00  103.87  5198972       17078  103.727981  \n",
       "2022-08-05 04:00:00+00:00  102.71  4847064       16418  102.711038  "
      ]
     },
     "metadata": {},
     "output_type": "display_data"
    }
   ],
   "source": [
    "# Use the Alpaca get_bars function to make the API call to get the 3 years worth of pricing data\n",
    "# The tickers and timeframe parameters should have been set in Part 1 of this activity \n",
    "# The start and end dates should be updated with the information set above\n",
    "# Remember to add the df property to the end of the call so the response is returned as a DataFrame\n",
    "closing_prices_df= alpaca.get_bars(tickers, timeframe, start=start_date, end=end_date).df\n",
    "\n",
    "# Reorganize the DataFrame\n",
    "# Separate ticker data\n",
    "SPY= closing_prices_df[closing_prices_df['symbol']=='SPY'].drop('symbol', axis=1)\n",
    "AGG= closing_prices_df[closing_prices_df['symbol']=='AGG'].drop('symbol', axis=1)\n",
    "\n",
    "# Concatenate the ticker DataFrames\n",
    "closing_prices_df= pd.concat([SPY, AGG], axis=1, keys=[\"SPY\", \"AGG\"])\n",
    "\n",
    "# Display both the first and last five rows of the DataFrame\n",
    "display(closing_prices_df.head())\n",
    "display(closing_prices_df.tail())\n"
   ]
  },
  {
   "cell_type": "markdown",
   "metadata": {},
   "source": [
    "#### Step 2: Run a Monte Carlo simulation of 500 samples and 30 years for the 60/40 portfolio, and then plot the results."
   ]
  },
  {
   "cell_type": "code",
   "execution_count": 113,
   "metadata": {},
   "outputs": [
    {
     "data": {
      "text/html": [
       "<div>\n",
       "<style scoped>\n",
       "    .dataframe tbody tr th:only-of-type {\n",
       "        vertical-align: middle;\n",
       "    }\n",
       "\n",
       "    .dataframe tbody tr th {\n",
       "        vertical-align: top;\n",
       "    }\n",
       "\n",
       "    .dataframe thead tr th {\n",
       "        text-align: left;\n",
       "    }\n",
       "\n",
       "    .dataframe thead tr:last-of-type th {\n",
       "        text-align: right;\n",
       "    }\n",
       "</style>\n",
       "<table border=\"1\" class=\"dataframe\">\n",
       "  <thead>\n",
       "    <tr>\n",
       "      <th></th>\n",
       "      <th colspan=\"8\" halign=\"left\">SPY</th>\n",
       "      <th colspan=\"8\" halign=\"left\">AGG</th>\n",
       "    </tr>\n",
       "    <tr>\n",
       "      <th></th>\n",
       "      <th>open</th>\n",
       "      <th>high</th>\n",
       "      <th>low</th>\n",
       "      <th>close</th>\n",
       "      <th>volume</th>\n",
       "      <th>trade_count</th>\n",
       "      <th>vwap</th>\n",
       "      <th>daily_return</th>\n",
       "      <th>open</th>\n",
       "      <th>high</th>\n",
       "      <th>low</th>\n",
       "      <th>close</th>\n",
       "      <th>volume</th>\n",
       "      <th>trade_count</th>\n",
       "      <th>vwap</th>\n",
       "      <th>daily_return</th>\n",
       "    </tr>\n",
       "    <tr>\n",
       "      <th>timestamp</th>\n",
       "      <th></th>\n",
       "      <th></th>\n",
       "      <th></th>\n",
       "      <th></th>\n",
       "      <th></th>\n",
       "      <th></th>\n",
       "      <th></th>\n",
       "      <th></th>\n",
       "      <th></th>\n",
       "      <th></th>\n",
       "      <th></th>\n",
       "      <th></th>\n",
       "      <th></th>\n",
       "      <th></th>\n",
       "      <th></th>\n",
       "      <th></th>\n",
       "    </tr>\n",
       "  </thead>\n",
       "  <tbody>\n",
       "    <tr>\n",
       "      <th>2019-08-07 04:00:00+00:00</th>\n",
       "      <td>284.40</td>\n",
       "      <td>288.8200</td>\n",
       "      <td>282.04</td>\n",
       "      <td>287.97</td>\n",
       "      <td>143723012</td>\n",
       "      <td>668446</td>\n",
       "      <td>286.311024</td>\n",
       "      <td>NaN</td>\n",
       "      <td>113.17</td>\n",
       "      <td>113.2900</td>\n",
       "      <td>112.610</td>\n",
       "      <td>112.68</td>\n",
       "      <td>9156551</td>\n",
       "      <td>37550</td>\n",
       "      <td>112.959111</td>\n",
       "      <td>NaN</td>\n",
       "    </tr>\n",
       "    <tr>\n",
       "      <th>2019-08-08 04:00:00+00:00</th>\n",
       "      <td>289.62</td>\n",
       "      <td>293.6200</td>\n",
       "      <td>289.01</td>\n",
       "      <td>293.62</td>\n",
       "      <td>88075904</td>\n",
       "      <td>406693</td>\n",
       "      <td>291.727950</td>\n",
       "      <td>0.019620</td>\n",
       "      <td>112.51</td>\n",
       "      <td>112.8200</td>\n",
       "      <td>112.330</td>\n",
       "      <td>112.79</td>\n",
       "      <td>3707196</td>\n",
       "      <td>15027</td>\n",
       "      <td>112.586906</td>\n",
       "      <td>0.000976</td>\n",
       "    </tr>\n",
       "    <tr>\n",
       "      <th>2019-08-09 04:00:00+00:00</th>\n",
       "      <td>292.59</td>\n",
       "      <td>293.2400</td>\n",
       "      <td>289.65</td>\n",
       "      <td>291.62</td>\n",
       "      <td>93729958</td>\n",
       "      <td>451157</td>\n",
       "      <td>291.732496</td>\n",
       "      <td>-0.006812</td>\n",
       "      <td>112.86</td>\n",
       "      <td>112.9500</td>\n",
       "      <td>112.575</td>\n",
       "      <td>112.64</td>\n",
       "      <td>2432292</td>\n",
       "      <td>9508</td>\n",
       "      <td>112.748706</td>\n",
       "      <td>-0.001330</td>\n",
       "    </tr>\n",
       "    <tr>\n",
       "      <th>2019-08-12 04:00:00+00:00</th>\n",
       "      <td>289.90</td>\n",
       "      <td>291.6052</td>\n",
       "      <td>287.02</td>\n",
       "      <td>288.07</td>\n",
       "      <td>60895115</td>\n",
       "      <td>324202</td>\n",
       "      <td>288.889779</td>\n",
       "      <td>-0.012173</td>\n",
       "      <td>112.93</td>\n",
       "      <td>113.1850</td>\n",
       "      <td>112.870</td>\n",
       "      <td>113.05</td>\n",
       "      <td>2246369</td>\n",
       "      <td>8960</td>\n",
       "      <td>113.035477</td>\n",
       "      <td>0.003640</td>\n",
       "    </tr>\n",
       "    <tr>\n",
       "      <th>2019-08-13 04:00:00+00:00</th>\n",
       "      <td>287.78</td>\n",
       "      <td>294.1500</td>\n",
       "      <td>287.36</td>\n",
       "      <td>292.55</td>\n",
       "      <td>100693314</td>\n",
       "      <td>490220</td>\n",
       "      <td>292.076183</td>\n",
       "      <td>0.015552</td>\n",
       "      <td>113.15</td>\n",
       "      <td>113.1504</td>\n",
       "      <td>112.785</td>\n",
       "      <td>112.89</td>\n",
       "      <td>3048591</td>\n",
       "      <td>13159</td>\n",
       "      <td>112.925793</td>\n",
       "      <td>-0.001415</td>\n",
       "    </tr>\n",
       "  </tbody>\n",
       "</table>\n",
       "</div>"
      ],
      "text/plain": [
       "                              SPY                                       \\\n",
       "                             open      high     low   close     volume   \n",
       "timestamp                                                                \n",
       "2019-08-07 04:00:00+00:00  284.40  288.8200  282.04  287.97  143723012   \n",
       "2019-08-08 04:00:00+00:00  289.62  293.6200  289.01  293.62   88075904   \n",
       "2019-08-09 04:00:00+00:00  292.59  293.2400  289.65  291.62   93729958   \n",
       "2019-08-12 04:00:00+00:00  289.90  291.6052  287.02  288.07   60895115   \n",
       "2019-08-13 04:00:00+00:00  287.78  294.1500  287.36  292.55  100693314   \n",
       "\n",
       "                                                                   AGG  \\\n",
       "                          trade_count        vwap daily_return    open   \n",
       "timestamp                                                                \n",
       "2019-08-07 04:00:00+00:00      668446  286.311024          NaN  113.17   \n",
       "2019-08-08 04:00:00+00:00      406693  291.727950     0.019620  112.51   \n",
       "2019-08-09 04:00:00+00:00      451157  291.732496    -0.006812  112.86   \n",
       "2019-08-12 04:00:00+00:00      324202  288.889779    -0.012173  112.93   \n",
       "2019-08-13 04:00:00+00:00      490220  292.076183     0.015552  113.15   \n",
       "\n",
       "                                                                           \\\n",
       "                               high      low   close   volume trade_count   \n",
       "timestamp                                                                   \n",
       "2019-08-07 04:00:00+00:00  113.2900  112.610  112.68  9156551       37550   \n",
       "2019-08-08 04:00:00+00:00  112.8200  112.330  112.79  3707196       15027   \n",
       "2019-08-09 04:00:00+00:00  112.9500  112.575  112.64  2432292        9508   \n",
       "2019-08-12 04:00:00+00:00  113.1850  112.870  113.05  2246369        8960   \n",
       "2019-08-13 04:00:00+00:00  113.1504  112.785  112.89  3048591       13159   \n",
       "\n",
       "                                                    \n",
       "                                 vwap daily_return  \n",
       "timestamp                                           \n",
       "2019-08-07 04:00:00+00:00  112.959111          NaN  \n",
       "2019-08-08 04:00:00+00:00  112.586906     0.000976  \n",
       "2019-08-09 04:00:00+00:00  112.748706    -0.001330  \n",
       "2019-08-12 04:00:00+00:00  113.035477     0.003640  \n",
       "2019-08-13 04:00:00+00:00  112.925793    -0.001415  "
      ]
     },
     "execution_count": 113,
     "metadata": {},
     "output_type": "execute_result"
    }
   ],
   "source": [
    "# Configure the Monte Carlo simulation to forecast 30 years cumulative returns\n",
    "# The weights should be split 40% to AGG and 60% to SPY.\n",
    "# Run 500 samples.\n",
    "MC_thirtyyear = MCSimulation( portfolio_data = closing_prices_df, weights = [.60,.40],num_simulation= 500, num_trading_days= 252*30)\n",
    "\n",
    "# Review the simulation input data\n",
    "MC_thirtyyear.portfolio_data.head()\n"
   ]
  },
  {
   "cell_type": "code",
   "execution_count": 114,
   "metadata": {},
   "outputs": [
    {
     "name": "stdout",
     "output_type": "stream",
     "text": [
      "Running Monte Carlo simulation number 0.\n",
      "Running Monte Carlo simulation number 10.\n",
      "Running Monte Carlo simulation number 20.\n",
      "Running Monte Carlo simulation number 30.\n",
      "Running Monte Carlo simulation number 40.\n",
      "Running Monte Carlo simulation number 50.\n",
      "Running Monte Carlo simulation number 60.\n",
      "Running Monte Carlo simulation number 70.\n",
      "Running Monte Carlo simulation number 80.\n",
      "Running Monte Carlo simulation number 90.\n",
      "Running Monte Carlo simulation number 100.\n"
     ]
    },
    {
     "name": "stderr",
     "output_type": "stream",
     "text": [
      "/Users/candicefoggie/Desktop/fintech-workspace/Starter_Code-5/MCForecastTools.py:117: PerformanceWarning: DataFrame is highly fragmented.  This is usually the result of calling `frame.insert` many times, which has poor performance.  Consider joining all columns at once using pd.concat(axis=1) instead.  To get a de-fragmented frame, use `newframe = frame.copy()`\n",
      "  portfolio_cumulative_returns[n] = (1 + sim_df.fillna(0)).cumprod()\n"
     ]
    },
    {
     "name": "stdout",
     "output_type": "stream",
     "text": [
      "Running Monte Carlo simulation number 110.\n",
      "Running Monte Carlo simulation number 120.\n",
      "Running Monte Carlo simulation number 130.\n",
      "Running Monte Carlo simulation number 140.\n",
      "Running Monte Carlo simulation number 150.\n",
      "Running Monte Carlo simulation number 160.\n",
      "Running Monte Carlo simulation number 170.\n",
      "Running Monte Carlo simulation number 180.\n",
      "Running Monte Carlo simulation number 190.\n",
      "Running Monte Carlo simulation number 200.\n",
      "Running Monte Carlo simulation number 210.\n",
      "Running Monte Carlo simulation number 220.\n",
      "Running Monte Carlo simulation number 230.\n",
      "Running Monte Carlo simulation number 240.\n",
      "Running Monte Carlo simulation number 250.\n",
      "Running Monte Carlo simulation number 260.\n",
      "Running Monte Carlo simulation number 270.\n",
      "Running Monte Carlo simulation number 280.\n",
      "Running Monte Carlo simulation number 290.\n",
      "Running Monte Carlo simulation number 300.\n",
      "Running Monte Carlo simulation number 310.\n",
      "Running Monte Carlo simulation number 320.\n",
      "Running Monte Carlo simulation number 330.\n",
      "Running Monte Carlo simulation number 340.\n",
      "Running Monte Carlo simulation number 350.\n",
      "Running Monte Carlo simulation number 360.\n",
      "Running Monte Carlo simulation number 370.\n",
      "Running Monte Carlo simulation number 380.\n",
      "Running Monte Carlo simulation number 390.\n",
      "Running Monte Carlo simulation number 400.\n",
      "Running Monte Carlo simulation number 410.\n",
      "Running Monte Carlo simulation number 420.\n",
      "Running Monte Carlo simulation number 430.\n",
      "Running Monte Carlo simulation number 440.\n",
      "Running Monte Carlo simulation number 450.\n",
      "Running Monte Carlo simulation number 460.\n",
      "Running Monte Carlo simulation number 470.\n",
      "Running Monte Carlo simulation number 480.\n",
      "Running Monte Carlo simulation number 490.\n"
     ]
    },
    {
     "data": {
      "text/html": [
       "<div>\n",
       "<style scoped>\n",
       "    .dataframe tbody tr th:only-of-type {\n",
       "        vertical-align: middle;\n",
       "    }\n",
       "\n",
       "    .dataframe tbody tr th {\n",
       "        vertical-align: top;\n",
       "    }\n",
       "\n",
       "    .dataframe thead th {\n",
       "        text-align: right;\n",
       "    }\n",
       "</style>\n",
       "<table border=\"1\" class=\"dataframe\">\n",
       "  <thead>\n",
       "    <tr style=\"text-align: right;\">\n",
       "      <th></th>\n",
       "      <th>0</th>\n",
       "      <th>1</th>\n",
       "      <th>2</th>\n",
       "      <th>3</th>\n",
       "      <th>4</th>\n",
       "      <th>5</th>\n",
       "      <th>6</th>\n",
       "      <th>7</th>\n",
       "      <th>8</th>\n",
       "      <th>9</th>\n",
       "      <th>...</th>\n",
       "      <th>490</th>\n",
       "      <th>491</th>\n",
       "      <th>492</th>\n",
       "      <th>493</th>\n",
       "      <th>494</th>\n",
       "      <th>495</th>\n",
       "      <th>496</th>\n",
       "      <th>497</th>\n",
       "      <th>498</th>\n",
       "      <th>499</th>\n",
       "    </tr>\n",
       "  </thead>\n",
       "  <tbody>\n",
       "    <tr>\n",
       "      <th>0</th>\n",
       "      <td>1.000000</td>\n",
       "      <td>1.000000</td>\n",
       "      <td>1.000000</td>\n",
       "      <td>1.000000</td>\n",
       "      <td>1.000000</td>\n",
       "      <td>1.000000</td>\n",
       "      <td>1.000000</td>\n",
       "      <td>1.000000</td>\n",
       "      <td>1.000000</td>\n",
       "      <td>1.000000</td>\n",
       "      <td>...</td>\n",
       "      <td>1.000000</td>\n",
       "      <td>1.000000</td>\n",
       "      <td>1.000000</td>\n",
       "      <td>1.000000</td>\n",
       "      <td>1.000000</td>\n",
       "      <td>1.000000</td>\n",
       "      <td>1.000000</td>\n",
       "      <td>1.000000</td>\n",
       "      <td>1.000000</td>\n",
       "      <td>1.000000</td>\n",
       "    </tr>\n",
       "    <tr>\n",
       "      <th>1</th>\n",
       "      <td>1.017467</td>\n",
       "      <td>0.999895</td>\n",
       "      <td>1.005856</td>\n",
       "      <td>1.002616</td>\n",
       "      <td>0.992007</td>\n",
       "      <td>1.002364</td>\n",
       "      <td>0.987045</td>\n",
       "      <td>1.018656</td>\n",
       "      <td>1.008310</td>\n",
       "      <td>0.986857</td>\n",
       "      <td>...</td>\n",
       "      <td>0.994450</td>\n",
       "      <td>1.012226</td>\n",
       "      <td>1.011308</td>\n",
       "      <td>0.994668</td>\n",
       "      <td>1.001441</td>\n",
       "      <td>1.017249</td>\n",
       "      <td>1.007128</td>\n",
       "      <td>1.006569</td>\n",
       "      <td>1.003009</td>\n",
       "      <td>0.987168</td>\n",
       "    </tr>\n",
       "    <tr>\n",
       "      <th>2</th>\n",
       "      <td>1.016357</td>\n",
       "      <td>0.995463</td>\n",
       "      <td>0.993722</td>\n",
       "      <td>1.017049</td>\n",
       "      <td>0.985860</td>\n",
       "      <td>1.004267</td>\n",
       "      <td>0.994455</td>\n",
       "      <td>1.028410</td>\n",
       "      <td>1.002889</td>\n",
       "      <td>0.989023</td>\n",
       "      <td>...</td>\n",
       "      <td>0.999910</td>\n",
       "      <td>1.001645</td>\n",
       "      <td>1.009175</td>\n",
       "      <td>1.001668</td>\n",
       "      <td>1.002914</td>\n",
       "      <td>1.002304</td>\n",
       "      <td>1.008345</td>\n",
       "      <td>1.018628</td>\n",
       "      <td>1.005872</td>\n",
       "      <td>0.989658</td>\n",
       "    </tr>\n",
       "    <tr>\n",
       "      <th>3</th>\n",
       "      <td>1.006126</td>\n",
       "      <td>0.999625</td>\n",
       "      <td>0.993380</td>\n",
       "      <td>1.007102</td>\n",
       "      <td>0.990582</td>\n",
       "      <td>1.020302</td>\n",
       "      <td>0.990438</td>\n",
       "      <td>1.038756</td>\n",
       "      <td>1.010386</td>\n",
       "      <td>0.977275</td>\n",
       "      <td>...</td>\n",
       "      <td>0.997486</td>\n",
       "      <td>0.990970</td>\n",
       "      <td>0.997160</td>\n",
       "      <td>1.003266</td>\n",
       "      <td>1.007836</td>\n",
       "      <td>1.005099</td>\n",
       "      <td>0.998227</td>\n",
       "      <td>1.016383</td>\n",
       "      <td>1.018648</td>\n",
       "      <td>0.977024</td>\n",
       "    </tr>\n",
       "    <tr>\n",
       "      <th>4</th>\n",
       "      <td>1.002795</td>\n",
       "      <td>0.985060</td>\n",
       "      <td>0.987871</td>\n",
       "      <td>1.004885</td>\n",
       "      <td>1.015247</td>\n",
       "      <td>1.014380</td>\n",
       "      <td>1.005514</td>\n",
       "      <td>1.051746</td>\n",
       "      <td>1.010244</td>\n",
       "      <td>0.989381</td>\n",
       "      <td>...</td>\n",
       "      <td>1.001370</td>\n",
       "      <td>0.998324</td>\n",
       "      <td>0.990533</td>\n",
       "      <td>0.996122</td>\n",
       "      <td>1.022434</td>\n",
       "      <td>1.004289</td>\n",
       "      <td>1.001027</td>\n",
       "      <td>1.009992</td>\n",
       "      <td>1.032999</td>\n",
       "      <td>0.973504</td>\n",
       "    </tr>\n",
       "    <tr>\n",
       "      <th>...</th>\n",
       "      <td>...</td>\n",
       "      <td>...</td>\n",
       "      <td>...</td>\n",
       "      <td>...</td>\n",
       "      <td>...</td>\n",
       "      <td>...</td>\n",
       "      <td>...</td>\n",
       "      <td>...</td>\n",
       "      <td>...</td>\n",
       "      <td>...</td>\n",
       "      <td>...</td>\n",
       "      <td>...</td>\n",
       "      <td>...</td>\n",
       "      <td>...</td>\n",
       "      <td>...</td>\n",
       "      <td>...</td>\n",
       "      <td>...</td>\n",
       "      <td>...</td>\n",
       "      <td>...</td>\n",
       "      <td>...</td>\n",
       "      <td>...</td>\n",
       "    </tr>\n",
       "    <tr>\n",
       "      <th>7556</th>\n",
       "      <td>3.998723</td>\n",
       "      <td>13.917717</td>\n",
       "      <td>4.436901</td>\n",
       "      <td>3.545415</td>\n",
       "      <td>3.295083</td>\n",
       "      <td>6.293134</td>\n",
       "      <td>3.555529</td>\n",
       "      <td>1.907296</td>\n",
       "      <td>9.547227</td>\n",
       "      <td>6.192361</td>\n",
       "      <td>...</td>\n",
       "      <td>4.339515</td>\n",
       "      <td>5.745923</td>\n",
       "      <td>9.205963</td>\n",
       "      <td>2.125128</td>\n",
       "      <td>18.970705</td>\n",
       "      <td>20.463593</td>\n",
       "      <td>16.769413</td>\n",
       "      <td>4.280926</td>\n",
       "      <td>6.766527</td>\n",
       "      <td>0.904301</td>\n",
       "    </tr>\n",
       "    <tr>\n",
       "      <th>7557</th>\n",
       "      <td>4.000139</td>\n",
       "      <td>14.126270</td>\n",
       "      <td>4.479642</td>\n",
       "      <td>3.517738</td>\n",
       "      <td>3.245102</td>\n",
       "      <td>6.307418</td>\n",
       "      <td>3.567410</td>\n",
       "      <td>1.907361</td>\n",
       "      <td>9.599559</td>\n",
       "      <td>6.176084</td>\n",
       "      <td>...</td>\n",
       "      <td>4.416873</td>\n",
       "      <td>5.684801</td>\n",
       "      <td>9.095278</td>\n",
       "      <td>2.127083</td>\n",
       "      <td>18.683067</td>\n",
       "      <td>20.326616</td>\n",
       "      <td>16.885374</td>\n",
       "      <td>4.299630</td>\n",
       "      <td>6.769731</td>\n",
       "      <td>0.892322</td>\n",
       "    </tr>\n",
       "    <tr>\n",
       "      <th>7558</th>\n",
       "      <td>3.990345</td>\n",
       "      <td>14.071487</td>\n",
       "      <td>4.524752</td>\n",
       "      <td>3.493926</td>\n",
       "      <td>3.255199</td>\n",
       "      <td>6.350842</td>\n",
       "      <td>3.567625</td>\n",
       "      <td>1.903662</td>\n",
       "      <td>9.456007</td>\n",
       "      <td>6.213370</td>\n",
       "      <td>...</td>\n",
       "      <td>4.386307</td>\n",
       "      <td>5.770650</td>\n",
       "      <td>9.171812</td>\n",
       "      <td>2.135163</td>\n",
       "      <td>18.688994</td>\n",
       "      <td>20.452473</td>\n",
       "      <td>16.603163</td>\n",
       "      <td>4.263228</td>\n",
       "      <td>6.804547</td>\n",
       "      <td>0.895258</td>\n",
       "    </tr>\n",
       "    <tr>\n",
       "      <th>7559</th>\n",
       "      <td>3.995191</td>\n",
       "      <td>14.048071</td>\n",
       "      <td>4.548875</td>\n",
       "      <td>3.459816</td>\n",
       "      <td>3.192738</td>\n",
       "      <td>6.187439</td>\n",
       "      <td>3.592276</td>\n",
       "      <td>1.899269</td>\n",
       "      <td>9.502314</td>\n",
       "      <td>6.202032</td>\n",
       "      <td>...</td>\n",
       "      <td>4.405015</td>\n",
       "      <td>5.792508</td>\n",
       "      <td>9.192977</td>\n",
       "      <td>2.163284</td>\n",
       "      <td>18.355330</td>\n",
       "      <td>20.609271</td>\n",
       "      <td>16.439258</td>\n",
       "      <td>4.291266</td>\n",
       "      <td>6.790724</td>\n",
       "      <td>0.878358</td>\n",
       "    </tr>\n",
       "    <tr>\n",
       "      <th>7560</th>\n",
       "      <td>4.032337</td>\n",
       "      <td>14.089649</td>\n",
       "      <td>4.554174</td>\n",
       "      <td>3.449167</td>\n",
       "      <td>3.247418</td>\n",
       "      <td>6.142121</td>\n",
       "      <td>3.585357</td>\n",
       "      <td>1.868609</td>\n",
       "      <td>9.591020</td>\n",
       "      <td>6.256576</td>\n",
       "      <td>...</td>\n",
       "      <td>4.448751</td>\n",
       "      <td>5.738586</td>\n",
       "      <td>9.308831</td>\n",
       "      <td>2.179676</td>\n",
       "      <td>18.193561</td>\n",
       "      <td>20.504058</td>\n",
       "      <td>16.614500</td>\n",
       "      <td>4.292578</td>\n",
       "      <td>6.814637</td>\n",
       "      <td>0.878688</td>\n",
       "    </tr>\n",
       "  </tbody>\n",
       "</table>\n",
       "<p>7561 rows × 500 columns</p>\n",
       "</div>"
      ],
      "text/plain": [
       "           0          1         2         3         4         5         6    \\\n",
       "0     1.000000   1.000000  1.000000  1.000000  1.000000  1.000000  1.000000   \n",
       "1     1.017467   0.999895  1.005856  1.002616  0.992007  1.002364  0.987045   \n",
       "2     1.016357   0.995463  0.993722  1.017049  0.985860  1.004267  0.994455   \n",
       "3     1.006126   0.999625  0.993380  1.007102  0.990582  1.020302  0.990438   \n",
       "4     1.002795   0.985060  0.987871  1.004885  1.015247  1.014380  1.005514   \n",
       "...        ...        ...       ...       ...       ...       ...       ...   \n",
       "7556  3.998723  13.917717  4.436901  3.545415  3.295083  6.293134  3.555529   \n",
       "7557  4.000139  14.126270  4.479642  3.517738  3.245102  6.307418  3.567410   \n",
       "7558  3.990345  14.071487  4.524752  3.493926  3.255199  6.350842  3.567625   \n",
       "7559  3.995191  14.048071  4.548875  3.459816  3.192738  6.187439  3.592276   \n",
       "7560  4.032337  14.089649  4.554174  3.449167  3.247418  6.142121  3.585357   \n",
       "\n",
       "           7         8         9    ...       490       491       492  \\\n",
       "0     1.000000  1.000000  1.000000  ...  1.000000  1.000000  1.000000   \n",
       "1     1.018656  1.008310  0.986857  ...  0.994450  1.012226  1.011308   \n",
       "2     1.028410  1.002889  0.989023  ...  0.999910  1.001645  1.009175   \n",
       "3     1.038756  1.010386  0.977275  ...  0.997486  0.990970  0.997160   \n",
       "4     1.051746  1.010244  0.989381  ...  1.001370  0.998324  0.990533   \n",
       "...        ...       ...       ...  ...       ...       ...       ...   \n",
       "7556  1.907296  9.547227  6.192361  ...  4.339515  5.745923  9.205963   \n",
       "7557  1.907361  9.599559  6.176084  ...  4.416873  5.684801  9.095278   \n",
       "7558  1.903662  9.456007  6.213370  ...  4.386307  5.770650  9.171812   \n",
       "7559  1.899269  9.502314  6.202032  ...  4.405015  5.792508  9.192977   \n",
       "7560  1.868609  9.591020  6.256576  ...  4.448751  5.738586  9.308831   \n",
       "\n",
       "           493        494        495        496       497       498       499  \n",
       "0     1.000000   1.000000   1.000000   1.000000  1.000000  1.000000  1.000000  \n",
       "1     0.994668   1.001441   1.017249   1.007128  1.006569  1.003009  0.987168  \n",
       "2     1.001668   1.002914   1.002304   1.008345  1.018628  1.005872  0.989658  \n",
       "3     1.003266   1.007836   1.005099   0.998227  1.016383  1.018648  0.977024  \n",
       "4     0.996122   1.022434   1.004289   1.001027  1.009992  1.032999  0.973504  \n",
       "...        ...        ...        ...        ...       ...       ...       ...  \n",
       "7556  2.125128  18.970705  20.463593  16.769413  4.280926  6.766527  0.904301  \n",
       "7557  2.127083  18.683067  20.326616  16.885374  4.299630  6.769731  0.892322  \n",
       "7558  2.135163  18.688994  20.452473  16.603163  4.263228  6.804547  0.895258  \n",
       "7559  2.163284  18.355330  20.609271  16.439258  4.291266  6.790724  0.878358  \n",
       "7560  2.179676  18.193561  20.504058  16.614500  4.292578  6.814637  0.878688  \n",
       "\n",
       "[7561 rows x 500 columns]"
      ]
     },
     "execution_count": 114,
     "metadata": {},
     "output_type": "execute_result"
    }
   ],
   "source": [
    "# Run the Monte Carlo simulation to forecast 30 years cumulative returns\n",
    "MC_thirtyyear.calc_cumulative_return()\n"
   ]
  },
  {
   "cell_type": "code",
   "execution_count": 115,
   "metadata": {},
   "outputs": [
    {
     "data": {
      "image/png": "[encoded data removed]",
      "text/plain": [
       "<Figure size 432x288 with 1 Axes>"
      ]
     },
     "metadata": {
      "needs_background": "light"
     },
     "output_type": "display_data"
    }
   ],
   "source": [
    "# Visualize the 30-year Monte Carlo simulation by creating an\n",
    "# overlay line plot\n",
    "MC_sim_line_plot= MC_thirtyyear.plot_simulation()\n"
   ]
  },
  {
   "cell_type": "markdown",
   "metadata": {},
   "source": [
    "#### Step 3: Plot the probability distribution of the Monte Carlo simulation."
   ]
  },
  {
   "cell_type": "code",
   "execution_count": 117,
   "metadata": {},
   "outputs": [
    {
     "data": {
      "image/png": "[encoded data removed]",
      "text/plain": [
       "<Figure size 432x288 with 1 Axes>"
      ]
     },
     "metadata": {
      "needs_background": "light"
     },
     "output_type": "display_data"
    }
   ],
   "source": [
    "# Visualize the probability distribution of the 30-year Monte Carlo simulation \n",
    "# by plotting a histogram\n",
    "MC_sim_dist_plot=MC_thirtyyear.plot_distribution()"
   ]
  },
  {
   "cell_type": "markdown",
   "metadata": {},
   "source": [
    "#### Step 4: Generate the summary statistics for the Monte Carlo simulation."
   ]
  },
  {
   "cell_type": "code",
   "execution_count": 118,
   "metadata": {
    "tags": []
   },
   "outputs": [
    {
     "name": "stdout",
     "output_type": "stream",
     "text": [
      "count           500.000000\n",
      "mean             10.352488\n",
      "std               8.794875\n",
      "min               0.832391\n",
      "25%               4.471488\n",
      "50%               7.730112\n",
      "75%              13.453109\n",
      "max              57.918344\n",
      "95% CI Lower      1.471685\n",
      "95% CI Upper     34.280872\n",
      "Name: 7560, dtype: float64\n"
     ]
    }
   ],
   "source": [
    "# Generate summary statistics from the 30-year Monte Carlo simulation results\n",
    "# Save the results as a variable\n",
    "MC_summary_stats = MC_thirtyyear.summarize_cumulative_return()\n",
    "\n",
    "\n",
    "# Review the 30-year Monte Carlo summary statistics\n",
    "print(MC_summary_stats)"
   ]
  },
  {
   "cell_type": "markdown",
   "metadata": {
    "tags": []
   },
   "source": [
    "### Analyze the Retirement Portfolio Forecasts\n",
    "\n",
    "Using the current value of only the stock and bond portion of the member's portfolio and the summary statistics that you generated from the Monte Carlo simulation, answer the following question in your Jupyter notebook:\n",
    "\n",
    "-  What are the lower and upper bounds for the expected value of the portfolio with a 95% confidence interval?\n"
   ]
  },
  {
   "cell_type": "code",
   "execution_count": 119,
   "metadata": {},
   "outputs": [
    {
     "name": "stdout",
     "output_type": "stream",
     "text": [
      "60688.7\n"
     ]
    }
   ],
   "source": [
    "# Print the current balance of the stock and bond portion of the members portfolio\n",
    "print(total_stocks_bonds)\n"
   ]
  },
  {
   "cell_type": "code",
   "execution_count": 121,
   "metadata": {},
   "outputs": [
    {
     "name": "stdout",
     "output_type": "stream",
     "text": [
      "89314.62355353106\n",
      "2080461.5273564148\n"
     ]
    }
   ],
   "source": [
    "# Use the lower and upper `95%` confidence intervals to calculate the range of the possible outcomes for the current stock/bond portfolio\n",
    "ci_lower_thirty_cumulative_return = MC_summary_stats[8]*60688.7\n",
    "ci_upper_thirty_cumulative_return = MC_summary_stats[9]*60688.7\n",
    "\n",
    "# Print the result of your calculations\n",
    "print(ci_lower_thirty_cumulative_return)\n",
    "print(ci_upper_thirty_cumulative_return)\n"
   ]
  },
  {
   "cell_type": "markdown",
   "metadata": {
    "tags": []
   },
   "source": [
    "### Forecast Cumulative Returns in 10 Years\n",
    "\n",
    "The CTO of the credit union is impressed with your work on these planning tools but wonders if 30 years is a long time to wait until retirement. So, your next task is to adjust the retirement portfolio and run a new Monte Carlo simulation to find out if the changes will allow members to retire earlier.\n",
    "\n",
    "For this new Monte Carlo simulation, do the following: \n",
    "\n",
    "- Forecast the cumulative returns for 10 years from now. Because of the shortened investment horizon (30 years to 10 years), the portfolio needs to invest more heavily in the riskier asset&mdash;that is, stock&mdash;to help accumulate wealth for retirement. \n",
    "\n",
    "- Adjust the weights of the retirement portfolio so that the composition for the Monte Carlo simulation consists of 20% bonds and 80% stocks. \n",
    "\n",
    "- Run the simulation over 500 samples, and use the same data that the API call to Alpaca generated.\n",
    "\n",
    "- Based on the new Monte Carlo simulation, answer the following questions in your Jupyter notebook:\n",
    "\n",
    "    - Using the current value of only the stock and bond portion of the member's portfolio and the summary statistics that you generated from the new Monte Carlo simulation, what are the lower and upper bounds for the expected value of the portfolio (with the new weights) with a 95% confidence interval?\n",
    "\n",
    "    - Will weighting the portfolio more heavily toward stocks allow the credit union members to retire after only 10 years?\n"
   ]
  },
  {
   "cell_type": "code",
   "execution_count": 122,
   "metadata": {},
   "outputs": [
    {
     "data": {
      "text/html": [
       "<div>\n",
       "<style scoped>\n",
       "    .dataframe tbody tr th:only-of-type {\n",
       "        vertical-align: middle;\n",
       "    }\n",
       "\n",
       "    .dataframe tbody tr th {\n",
       "        vertical-align: top;\n",
       "    }\n",
       "\n",
       "    .dataframe thead tr th {\n",
       "        text-align: left;\n",
       "    }\n",
       "\n",
       "    .dataframe thead tr:last-of-type th {\n",
       "        text-align: right;\n",
       "    }\n",
       "</style>\n",
       "<table border=\"1\" class=\"dataframe\">\n",
       "  <thead>\n",
       "    <tr>\n",
       "      <th></th>\n",
       "      <th colspan=\"8\" halign=\"left\">SPY</th>\n",
       "      <th colspan=\"8\" halign=\"left\">AGG</th>\n",
       "    </tr>\n",
       "    <tr>\n",
       "      <th></th>\n",
       "      <th>open</th>\n",
       "      <th>high</th>\n",
       "      <th>low</th>\n",
       "      <th>close</th>\n",
       "      <th>volume</th>\n",
       "      <th>trade_count</th>\n",
       "      <th>vwap</th>\n",
       "      <th>daily_return</th>\n",
       "      <th>open</th>\n",
       "      <th>high</th>\n",
       "      <th>low</th>\n",
       "      <th>close</th>\n",
       "      <th>volume</th>\n",
       "      <th>trade_count</th>\n",
       "      <th>vwap</th>\n",
       "      <th>daily_return</th>\n",
       "    </tr>\n",
       "    <tr>\n",
       "      <th>timestamp</th>\n",
       "      <th></th>\n",
       "      <th></th>\n",
       "      <th></th>\n",
       "      <th></th>\n",
       "      <th></th>\n",
       "      <th></th>\n",
       "      <th></th>\n",
       "      <th></th>\n",
       "      <th></th>\n",
       "      <th></th>\n",
       "      <th></th>\n",
       "      <th></th>\n",
       "      <th></th>\n",
       "      <th></th>\n",
       "      <th></th>\n",
       "      <th></th>\n",
       "    </tr>\n",
       "  </thead>\n",
       "  <tbody>\n",
       "    <tr>\n",
       "      <th>2019-08-07 04:00:00+00:00</th>\n",
       "      <td>284.40</td>\n",
       "      <td>288.8200</td>\n",
       "      <td>282.04</td>\n",
       "      <td>287.97</td>\n",
       "      <td>143723012</td>\n",
       "      <td>668446</td>\n",
       "      <td>286.311024</td>\n",
       "      <td>NaN</td>\n",
       "      <td>113.17</td>\n",
       "      <td>113.2900</td>\n",
       "      <td>112.610</td>\n",
       "      <td>112.68</td>\n",
       "      <td>9156551</td>\n",
       "      <td>37550</td>\n",
       "      <td>112.959111</td>\n",
       "      <td>NaN</td>\n",
       "    </tr>\n",
       "    <tr>\n",
       "      <th>2019-08-08 04:00:00+00:00</th>\n",
       "      <td>289.62</td>\n",
       "      <td>293.6200</td>\n",
       "      <td>289.01</td>\n",
       "      <td>293.62</td>\n",
       "      <td>88075904</td>\n",
       "      <td>406693</td>\n",
       "      <td>291.727950</td>\n",
       "      <td>0.019620</td>\n",
       "      <td>112.51</td>\n",
       "      <td>112.8200</td>\n",
       "      <td>112.330</td>\n",
       "      <td>112.79</td>\n",
       "      <td>3707196</td>\n",
       "      <td>15027</td>\n",
       "      <td>112.586906</td>\n",
       "      <td>0.000976</td>\n",
       "    </tr>\n",
       "    <tr>\n",
       "      <th>2019-08-09 04:00:00+00:00</th>\n",
       "      <td>292.59</td>\n",
       "      <td>293.2400</td>\n",
       "      <td>289.65</td>\n",
       "      <td>291.62</td>\n",
       "      <td>93729958</td>\n",
       "      <td>451157</td>\n",
       "      <td>291.732496</td>\n",
       "      <td>-0.006812</td>\n",
       "      <td>112.86</td>\n",
       "      <td>112.9500</td>\n",
       "      <td>112.575</td>\n",
       "      <td>112.64</td>\n",
       "      <td>2432292</td>\n",
       "      <td>9508</td>\n",
       "      <td>112.748706</td>\n",
       "      <td>-0.001330</td>\n",
       "    </tr>\n",
       "    <tr>\n",
       "      <th>2019-08-12 04:00:00+00:00</th>\n",
       "      <td>289.90</td>\n",
       "      <td>291.6052</td>\n",
       "      <td>287.02</td>\n",
       "      <td>288.07</td>\n",
       "      <td>60895115</td>\n",
       "      <td>324202</td>\n",
       "      <td>288.889779</td>\n",
       "      <td>-0.012173</td>\n",
       "      <td>112.93</td>\n",
       "      <td>113.1850</td>\n",
       "      <td>112.870</td>\n",
       "      <td>113.05</td>\n",
       "      <td>2246369</td>\n",
       "      <td>8960</td>\n",
       "      <td>113.035477</td>\n",
       "      <td>0.003640</td>\n",
       "    </tr>\n",
       "    <tr>\n",
       "      <th>2019-08-13 04:00:00+00:00</th>\n",
       "      <td>287.78</td>\n",
       "      <td>294.1500</td>\n",
       "      <td>287.36</td>\n",
       "      <td>292.55</td>\n",
       "      <td>100693314</td>\n",
       "      <td>490220</td>\n",
       "      <td>292.076183</td>\n",
       "      <td>0.015552</td>\n",
       "      <td>113.15</td>\n",
       "      <td>113.1504</td>\n",
       "      <td>112.785</td>\n",
       "      <td>112.89</td>\n",
       "      <td>3048591</td>\n",
       "      <td>13159</td>\n",
       "      <td>112.925793</td>\n",
       "      <td>-0.001415</td>\n",
       "    </tr>\n",
       "  </tbody>\n",
       "</table>\n",
       "</div>"
      ],
      "text/plain": [
       "                              SPY                                       \\\n",
       "                             open      high     low   close     volume   \n",
       "timestamp                                                                \n",
       "2019-08-07 04:00:00+00:00  284.40  288.8200  282.04  287.97  143723012   \n",
       "2019-08-08 04:00:00+00:00  289.62  293.6200  289.01  293.62   88075904   \n",
       "2019-08-09 04:00:00+00:00  292.59  293.2400  289.65  291.62   93729958   \n",
       "2019-08-12 04:00:00+00:00  289.90  291.6052  287.02  288.07   60895115   \n",
       "2019-08-13 04:00:00+00:00  287.78  294.1500  287.36  292.55  100693314   \n",
       "\n",
       "                                                                   AGG  \\\n",
       "                          trade_count        vwap daily_return    open   \n",
       "timestamp                                                                \n",
       "2019-08-07 04:00:00+00:00      668446  286.311024          NaN  113.17   \n",
       "2019-08-08 04:00:00+00:00      406693  291.727950     0.019620  112.51   \n",
       "2019-08-09 04:00:00+00:00      451157  291.732496    -0.006812  112.86   \n",
       "2019-08-12 04:00:00+00:00      324202  288.889779    -0.012173  112.93   \n",
       "2019-08-13 04:00:00+00:00      490220  292.076183     0.015552  113.15   \n",
       "\n",
       "                                                                           \\\n",
       "                               high      low   close   volume trade_count   \n",
       "timestamp                                                                   \n",
       "2019-08-07 04:00:00+00:00  113.2900  112.610  112.68  9156551       37550   \n",
       "2019-08-08 04:00:00+00:00  112.8200  112.330  112.79  3707196       15027   \n",
       "2019-08-09 04:00:00+00:00  112.9500  112.575  112.64  2432292        9508   \n",
       "2019-08-12 04:00:00+00:00  113.1850  112.870  113.05  2246369        8960   \n",
       "2019-08-13 04:00:00+00:00  113.1504  112.785  112.89  3048591       13159   \n",
       "\n",
       "                                                    \n",
       "                                 vwap daily_return  \n",
       "timestamp                                           \n",
       "2019-08-07 04:00:00+00:00  112.959111          NaN  \n",
       "2019-08-08 04:00:00+00:00  112.586906     0.000976  \n",
       "2019-08-09 04:00:00+00:00  112.748706    -0.001330  \n",
       "2019-08-12 04:00:00+00:00  113.035477     0.003640  \n",
       "2019-08-13 04:00:00+00:00  112.925793    -0.001415  "
      ]
     },
     "execution_count": 122,
     "metadata": {},
     "output_type": "execute_result"
    }
   ],
   "source": [
    "# Configure a Monte Carlo simulation to forecast 10 years cumulative returns\n",
    "# The weights should be split 20% to AGG and 80% to SPY.\n",
    "# Run 500 samples.\n",
    "MC_tenyear = MCSimulation( portfolio_data = closing_prices_df, weights = [.20,.80],num_simulation= 500, num_trading_days= 252*10)\n",
    "\n",
    "# Review the simulation input data\n",
    "MC_tenyear.portfolio_data.head()\n"
   ]
  },
  {
   "cell_type": "code",
   "execution_count": 123,
   "metadata": {},
   "outputs": [
    {
     "name": "stdout",
     "output_type": "stream",
     "text": [
      "Running Monte Carlo simulation number 0.\n",
      "Running Monte Carlo simulation number 10.\n",
      "Running Monte Carlo simulation number 20.\n",
      "Running Monte Carlo simulation number 30.\n",
      "Running Monte Carlo simulation number 40.\n",
      "Running Monte Carlo simulation number 50.\n",
      "Running Monte Carlo simulation number 60.\n",
      "Running Monte Carlo simulation number 70.\n",
      "Running Monte Carlo simulation number 80.\n",
      "Running Monte Carlo simulation number 90.\n",
      "Running Monte Carlo simulation number 100.\n"
     ]
    },
    {
     "name": "stderr",
     "output_type": "stream",
     "text": [
      "/Users/candicefoggie/Desktop/fintech-workspace/Starter_Code-5/MCForecastTools.py:117: PerformanceWarning: DataFrame is highly fragmented.  This is usually the result of calling `frame.insert` many times, which has poor performance.  Consider joining all columns at once using pd.concat(axis=1) instead.  To get a de-fragmented frame, use `newframe = frame.copy()`\n",
      "  portfolio_cumulative_returns[n] = (1 + sim_df.fillna(0)).cumprod()\n"
     ]
    },
    {
     "name": "stdout",
     "output_type": "stream",
     "text": [
      "Running Monte Carlo simulation number 110.\n",
      "Running Monte Carlo simulation number 120.\n",
      "Running Monte Carlo simulation number 130.\n",
      "Running Monte Carlo simulation number 140.\n",
      "Running Monte Carlo simulation number 150.\n",
      "Running Monte Carlo simulation number 160.\n",
      "Running Monte Carlo simulation number 170.\n",
      "Running Monte Carlo simulation number 180.\n",
      "Running Monte Carlo simulation number 190.\n",
      "Running Monte Carlo simulation number 200.\n",
      "Running Monte Carlo simulation number 210.\n",
      "Running Monte Carlo simulation number 220.\n",
      "Running Monte Carlo simulation number 230.\n",
      "Running Monte Carlo simulation number 240.\n",
      "Running Monte Carlo simulation number 250.\n",
      "Running Monte Carlo simulation number 260.\n",
      "Running Monte Carlo simulation number 270.\n",
      "Running Monte Carlo simulation number 280.\n",
      "Running Monte Carlo simulation number 290.\n",
      "Running Monte Carlo simulation number 300.\n",
      "Running Monte Carlo simulation number 310.\n",
      "Running Monte Carlo simulation number 320.\n",
      "Running Monte Carlo simulation number 330.\n",
      "Running Monte Carlo simulation number 340.\n",
      "Running Monte Carlo simulation number 350.\n",
      "Running Monte Carlo simulation number 360.\n",
      "Running Monte Carlo simulation number 370.\n",
      "Running Monte Carlo simulation number 380.\n",
      "Running Monte Carlo simulation number 390.\n",
      "Running Monte Carlo simulation number 400.\n",
      "Running Monte Carlo simulation number 410.\n",
      "Running Monte Carlo simulation number 420.\n",
      "Running Monte Carlo simulation number 430.\n",
      "Running Monte Carlo simulation number 440.\n",
      "Running Monte Carlo simulation number 450.\n",
      "Running Monte Carlo simulation number 460.\n",
      "Running Monte Carlo simulation number 470.\n",
      "Running Monte Carlo simulation number 480.\n",
      "Running Monte Carlo simulation number 490.\n"
     ]
    },
    {
     "data": {
      "text/html": [
       "<div>\n",
       "<style scoped>\n",
       "    .dataframe tbody tr th:only-of-type {\n",
       "        vertical-align: middle;\n",
       "    }\n",
       "\n",
       "    .dataframe tbody tr th {\n",
       "        vertical-align: top;\n",
       "    }\n",
       "\n",
       "    .dataframe thead th {\n",
       "        text-align: right;\n",
       "    }\n",
       "</style>\n",
       "<table border=\"1\" class=\"dataframe\">\n",
       "  <thead>\n",
       "    <tr style=\"text-align: right;\">\n",
       "      <th></th>\n",
       "      <th>0</th>\n",
       "      <th>1</th>\n",
       "      <th>2</th>\n",
       "      <th>3</th>\n",
       "      <th>4</th>\n",
       "      <th>5</th>\n",
       "      <th>6</th>\n",
       "      <th>7</th>\n",
       "      <th>8</th>\n",
       "      <th>9</th>\n",
       "      <th>...</th>\n",
       "      <th>490</th>\n",
       "      <th>491</th>\n",
       "      <th>492</th>\n",
       "      <th>493</th>\n",
       "      <th>494</th>\n",
       "      <th>495</th>\n",
       "      <th>496</th>\n",
       "      <th>497</th>\n",
       "      <th>498</th>\n",
       "      <th>499</th>\n",
       "    </tr>\n",
       "  </thead>\n",
       "  <tbody>\n",
       "    <tr>\n",
       "      <th>0</th>\n",
       "      <td>1.000000</td>\n",
       "      <td>1.000000</td>\n",
       "      <td>1.000000</td>\n",
       "      <td>1.000000</td>\n",
       "      <td>1.000000</td>\n",
       "      <td>1.000000</td>\n",
       "      <td>1.000000</td>\n",
       "      <td>1.000000</td>\n",
       "      <td>1.000000</td>\n",
       "      <td>1.000000</td>\n",
       "      <td>...</td>\n",
       "      <td>1.000000</td>\n",
       "      <td>1.000000</td>\n",
       "      <td>1.000000</td>\n",
       "      <td>1.000000</td>\n",
       "      <td>1.000000</td>\n",
       "      <td>1.000000</td>\n",
       "      <td>1.000000</td>\n",
       "      <td>1.000000</td>\n",
       "      <td>1.000000</td>\n",
       "      <td>1.000000</td>\n",
       "    </tr>\n",
       "    <tr>\n",
       "      <th>1</th>\n",
       "      <td>1.002278</td>\n",
       "      <td>1.001302</td>\n",
       "      <td>0.998726</td>\n",
       "      <td>0.999593</td>\n",
       "      <td>1.006753</td>\n",
       "      <td>1.002594</td>\n",
       "      <td>1.006882</td>\n",
       "      <td>1.002462</td>\n",
       "      <td>0.996248</td>\n",
       "      <td>0.992290</td>\n",
       "      <td>...</td>\n",
       "      <td>1.000829</td>\n",
       "      <td>0.999148</td>\n",
       "      <td>0.999995</td>\n",
       "      <td>0.993619</td>\n",
       "      <td>0.990896</td>\n",
       "      <td>1.003492</td>\n",
       "      <td>1.001703</td>\n",
       "      <td>1.006787</td>\n",
       "      <td>0.992674</td>\n",
       "      <td>0.991924</td>\n",
       "    </tr>\n",
       "    <tr>\n",
       "      <th>2</th>\n",
       "      <td>1.006983</td>\n",
       "      <td>0.999223</td>\n",
       "      <td>0.998877</td>\n",
       "      <td>0.994692</td>\n",
       "      <td>1.005538</td>\n",
       "      <td>0.999501</td>\n",
       "      <td>1.015405</td>\n",
       "      <td>1.003238</td>\n",
       "      <td>1.001353</td>\n",
       "      <td>0.997074</td>\n",
       "      <td>...</td>\n",
       "      <td>0.999139</td>\n",
       "      <td>1.002907</td>\n",
       "      <td>1.000144</td>\n",
       "      <td>0.991853</td>\n",
       "      <td>0.985193</td>\n",
       "      <td>1.003092</td>\n",
       "      <td>1.005288</td>\n",
       "      <td>1.006907</td>\n",
       "      <td>0.983196</td>\n",
       "      <td>0.994989</td>\n",
       "    </tr>\n",
       "    <tr>\n",
       "      <th>3</th>\n",
       "      <td>1.003579</td>\n",
       "      <td>1.000455</td>\n",
       "      <td>0.989081</td>\n",
       "      <td>0.994253</td>\n",
       "      <td>1.008989</td>\n",
       "      <td>0.995350</td>\n",
       "      <td>1.017545</td>\n",
       "      <td>1.003769</td>\n",
       "      <td>1.000346</td>\n",
       "      <td>0.993571</td>\n",
       "      <td>...</td>\n",
       "      <td>1.003000</td>\n",
       "      <td>1.004362</td>\n",
       "      <td>0.999076</td>\n",
       "      <td>0.985681</td>\n",
       "      <td>0.986240</td>\n",
       "      <td>1.009535</td>\n",
       "      <td>1.001314</td>\n",
       "      <td>0.996499</td>\n",
       "      <td>0.990569</td>\n",
       "      <td>0.997995</td>\n",
       "    </tr>\n",
       "    <tr>\n",
       "      <th>4</th>\n",
       "      <td>1.007217</td>\n",
       "      <td>1.007222</td>\n",
       "      <td>0.980563</td>\n",
       "      <td>0.994762</td>\n",
       "      <td>1.014493</td>\n",
       "      <td>0.995587</td>\n",
       "      <td>1.021679</td>\n",
       "      <td>1.004684</td>\n",
       "      <td>1.004744</td>\n",
       "      <td>0.996922</td>\n",
       "      <td>...</td>\n",
       "      <td>0.999802</td>\n",
       "      <td>1.001864</td>\n",
       "      <td>0.999461</td>\n",
       "      <td>0.985042</td>\n",
       "      <td>0.988811</td>\n",
       "      <td>1.006077</td>\n",
       "      <td>1.001466</td>\n",
       "      <td>0.996112</td>\n",
       "      <td>0.987555</td>\n",
       "      <td>1.001031</td>\n",
       "    </tr>\n",
       "    <tr>\n",
       "      <th>...</th>\n",
       "      <td>...</td>\n",
       "      <td>...</td>\n",
       "      <td>...</td>\n",
       "      <td>...</td>\n",
       "      <td>...</td>\n",
       "      <td>...</td>\n",
       "      <td>...</td>\n",
       "      <td>...</td>\n",
       "      <td>...</td>\n",
       "      <td>...</td>\n",
       "      <td>...</td>\n",
       "      <td>...</td>\n",
       "      <td>...</td>\n",
       "      <td>...</td>\n",
       "      <td>...</td>\n",
       "      <td>...</td>\n",
       "      <td>...</td>\n",
       "      <td>...</td>\n",
       "      <td>...</td>\n",
       "      <td>...</td>\n",
       "      <td>...</td>\n",
       "    </tr>\n",
       "    <tr>\n",
       "      <th>2516</th>\n",
       "      <td>1.668879</td>\n",
       "      <td>0.918997</td>\n",
       "      <td>0.806136</td>\n",
       "      <td>1.160514</td>\n",
       "      <td>1.301755</td>\n",
       "      <td>1.190626</td>\n",
       "      <td>1.233737</td>\n",
       "      <td>0.762451</td>\n",
       "      <td>1.125461</td>\n",
       "      <td>1.073144</td>\n",
       "      <td>...</td>\n",
       "      <td>0.964995</td>\n",
       "      <td>0.910304</td>\n",
       "      <td>0.674728</td>\n",
       "      <td>1.100554</td>\n",
       "      <td>0.836764</td>\n",
       "      <td>0.760299</td>\n",
       "      <td>0.974669</td>\n",
       "      <td>0.942903</td>\n",
       "      <td>0.882497</td>\n",
       "      <td>1.033473</td>\n",
       "    </tr>\n",
       "    <tr>\n",
       "      <th>2517</th>\n",
       "      <td>1.677654</td>\n",
       "      <td>0.921133</td>\n",
       "      <td>0.803524</td>\n",
       "      <td>1.159733</td>\n",
       "      <td>1.301805</td>\n",
       "      <td>1.189487</td>\n",
       "      <td>1.236720</td>\n",
       "      <td>0.766938</td>\n",
       "      <td>1.121902</td>\n",
       "      <td>1.070729</td>\n",
       "      <td>...</td>\n",
       "      <td>0.959175</td>\n",
       "      <td>0.904245</td>\n",
       "      <td>0.676781</td>\n",
       "      <td>1.104422</td>\n",
       "      <td>0.837337</td>\n",
       "      <td>0.756469</td>\n",
       "      <td>0.970831</td>\n",
       "      <td>0.941509</td>\n",
       "      <td>0.880378</td>\n",
       "      <td>1.037169</td>\n",
       "    </tr>\n",
       "    <tr>\n",
       "      <th>2518</th>\n",
       "      <td>1.681301</td>\n",
       "      <td>0.914694</td>\n",
       "      <td>0.801732</td>\n",
       "      <td>1.157295</td>\n",
       "      <td>1.298363</td>\n",
       "      <td>1.189973</td>\n",
       "      <td>1.239996</td>\n",
       "      <td>0.768783</td>\n",
       "      <td>1.124543</td>\n",
       "      <td>1.073764</td>\n",
       "      <td>...</td>\n",
       "      <td>0.953652</td>\n",
       "      <td>0.899577</td>\n",
       "      <td>0.679223</td>\n",
       "      <td>1.097972</td>\n",
       "      <td>0.836947</td>\n",
       "      <td>0.760199</td>\n",
       "      <td>0.969910</td>\n",
       "      <td>0.944216</td>\n",
       "      <td>0.880911</td>\n",
       "      <td>1.041550</td>\n",
       "    </tr>\n",
       "    <tr>\n",
       "      <th>2519</th>\n",
       "      <td>1.685671</td>\n",
       "      <td>0.918366</td>\n",
       "      <td>0.799654</td>\n",
       "      <td>1.162202</td>\n",
       "      <td>1.298020</td>\n",
       "      <td>1.185035</td>\n",
       "      <td>1.230159</td>\n",
       "      <td>0.768264</td>\n",
       "      <td>1.128819</td>\n",
       "      <td>1.072292</td>\n",
       "      <td>...</td>\n",
       "      <td>0.953262</td>\n",
       "      <td>0.900630</td>\n",
       "      <td>0.681519</td>\n",
       "      <td>1.086458</td>\n",
       "      <td>0.839841</td>\n",
       "      <td>0.757899</td>\n",
       "      <td>0.974435</td>\n",
       "      <td>0.941069</td>\n",
       "      <td>0.883717</td>\n",
       "      <td>1.044867</td>\n",
       "    </tr>\n",
       "    <tr>\n",
       "      <th>2520</th>\n",
       "      <td>1.685587</td>\n",
       "      <td>0.919640</td>\n",
       "      <td>0.802991</td>\n",
       "      <td>1.163029</td>\n",
       "      <td>1.290332</td>\n",
       "      <td>1.187976</td>\n",
       "      <td>1.230689</td>\n",
       "      <td>0.767835</td>\n",
       "      <td>1.125085</td>\n",
       "      <td>1.066618</td>\n",
       "      <td>...</td>\n",
       "      <td>0.957787</td>\n",
       "      <td>0.896597</td>\n",
       "      <td>0.683780</td>\n",
       "      <td>1.093491</td>\n",
       "      <td>0.835407</td>\n",
       "      <td>0.756641</td>\n",
       "      <td>0.976912</td>\n",
       "      <td>0.937770</td>\n",
       "      <td>0.877496</td>\n",
       "      <td>1.042338</td>\n",
       "    </tr>\n",
       "  </tbody>\n",
       "</table>\n",
       "<p>2521 rows × 500 columns</p>\n",
       "</div>"
      ],
      "text/plain": [
       "           0         1         2         3         4         5         6    \\\n",
       "0     1.000000  1.000000  1.000000  1.000000  1.000000  1.000000  1.000000   \n",
       "1     1.002278  1.001302  0.998726  0.999593  1.006753  1.002594  1.006882   \n",
       "2     1.006983  0.999223  0.998877  0.994692  1.005538  0.999501  1.015405   \n",
       "3     1.003579  1.000455  0.989081  0.994253  1.008989  0.995350  1.017545   \n",
       "4     1.007217  1.007222  0.980563  0.994762  1.014493  0.995587  1.021679   \n",
       "...        ...       ...       ...       ...       ...       ...       ...   \n",
       "2516  1.668879  0.918997  0.806136  1.160514  1.301755  1.190626  1.233737   \n",
       "2517  1.677654  0.921133  0.803524  1.159733  1.301805  1.189487  1.236720   \n",
       "2518  1.681301  0.914694  0.801732  1.157295  1.298363  1.189973  1.239996   \n",
       "2519  1.685671  0.918366  0.799654  1.162202  1.298020  1.185035  1.230159   \n",
       "2520  1.685587  0.919640  0.802991  1.163029  1.290332  1.187976  1.230689   \n",
       "\n",
       "           7         8         9    ...       490       491       492  \\\n",
       "0     1.000000  1.000000  1.000000  ...  1.000000  1.000000  1.000000   \n",
       "1     1.002462  0.996248  0.992290  ...  1.000829  0.999148  0.999995   \n",
       "2     1.003238  1.001353  0.997074  ...  0.999139  1.002907  1.000144   \n",
       "3     1.003769  1.000346  0.993571  ...  1.003000  1.004362  0.999076   \n",
       "4     1.004684  1.004744  0.996922  ...  0.999802  1.001864  0.999461   \n",
       "...        ...       ...       ...  ...       ...       ...       ...   \n",
       "2516  0.762451  1.125461  1.073144  ...  0.964995  0.910304  0.674728   \n",
       "2517  0.766938  1.121902  1.070729  ...  0.959175  0.904245  0.676781   \n",
       "2518  0.768783  1.124543  1.073764  ...  0.953652  0.899577  0.679223   \n",
       "2519  0.768264  1.128819  1.072292  ...  0.953262  0.900630  0.681519   \n",
       "2520  0.767835  1.125085  1.066618  ...  0.957787  0.896597  0.683780   \n",
       "\n",
       "           493       494       495       496       497       498       499  \n",
       "0     1.000000  1.000000  1.000000  1.000000  1.000000  1.000000  1.000000  \n",
       "1     0.993619  0.990896  1.003492  1.001703  1.006787  0.992674  0.991924  \n",
       "2     0.991853  0.985193  1.003092  1.005288  1.006907  0.983196  0.994989  \n",
       "3     0.985681  0.986240  1.009535  1.001314  0.996499  0.990569  0.997995  \n",
       "4     0.985042  0.988811  1.006077  1.001466  0.996112  0.987555  1.001031  \n",
       "...        ...       ...       ...       ...       ...       ...       ...  \n",
       "2516  1.100554  0.836764  0.760299  0.974669  0.942903  0.882497  1.033473  \n",
       "2517  1.104422  0.837337  0.756469  0.970831  0.941509  0.880378  1.037169  \n",
       "2518  1.097972  0.836947  0.760199  0.969910  0.944216  0.880911  1.041550  \n",
       "2519  1.086458  0.839841  0.757899  0.974435  0.941069  0.883717  1.044867  \n",
       "2520  1.093491  0.835407  0.756641  0.976912  0.937770  0.877496  1.042338  \n",
       "\n",
       "[2521 rows x 500 columns]"
      ]
     },
     "execution_count": 123,
     "metadata": {},
     "output_type": "execute_result"
    }
   ],
   "source": [
    "# Run the Monte Carlo simulation to forecast 10 years cumulative returns\n",
    "MC_tenyear.calc_cumulative_return()\n"
   ]
  },
  {
   "cell_type": "code",
   "execution_count": 124,
   "metadata": {},
   "outputs": [
    {
     "data": {
      "image/png": "[encoded data removed]",
      "text/plain": [
       "<Figure size 432x288 with 1 Axes>"
      ]
     },
     "metadata": {
      "needs_background": "light"
     },
     "output_type": "display_data"
    }
   ],
   "source": [
    "# Visualize the 10-year Monte Carlo simulation by creating an\n",
    "# overlay line plot\n",
    "MC_sim_line_plot_ten= MC_tenyear.plot_simulation()\n"
   ]
  },
  {
   "cell_type": "code",
   "execution_count": 125,
   "metadata": {},
   "outputs": [
    {
     "data": {
      "image/png": "[encoded data removed]",
      "text/plain": [
       "<Figure size 432x288 with 1 Axes>"
      ]
     },
     "metadata": {
      "needs_background": "light"
     },
     "output_type": "display_data"
    }
   ],
   "source": [
    "# Visualize the probability distribution of the 10-year Monte Carlo simulation \n",
    "# by plotting a histogram\n",
    "MC_sim_dist_plot_ten=MC_tenyear.plot_distribution()\n"
   ]
  },
  {
   "cell_type": "code",
   "execution_count": 126,
   "metadata": {},
   "outputs": [
    {
     "name": "stdout",
     "output_type": "stream",
     "text": [
      "count           500.000000\n",
      "mean              1.059272\n",
      "std               0.233211\n",
      "min               0.558548\n",
      "25%               0.892750\n",
      "50%               1.036351\n",
      "75%               1.188332\n",
      "max               2.005921\n",
      "95% CI Lower      0.669516\n",
      "95% CI Upper      1.627826\n",
      "Name: 2520, dtype: float64\n"
     ]
    }
   ],
   "source": [
    "# Generate summary statistics from the 10-year Monte Carlo simulation results\n",
    "# Save the results as a variable\n",
    "MC_summary_stats_ten = MC_tenyear.summarize_cumulative_return()\n",
    "\n",
    "\n",
    "\n",
    "\n",
    "# Review the 10-year Monte Carlo summary statistics\n",
    "print(MC_summary_stats_ten)"
   ]
  },
  {
   "cell_type": "markdown",
   "metadata": {},
   "source": [
    "### Answer the following questions:"
   ]
  },
  {
   "cell_type": "markdown",
   "metadata": {
    "tags": []
   },
   "source": [
    "#### Question: Using the current value of only the stock and bond portion of the member's portfolio and the summary statistics that you generated from the new Monte Carlo simulation, what are the lower and upper bounds for the expected value of the portfolio (with the new weights) with a 95% confidence interval?"
   ]
  },
  {
   "cell_type": "code",
   "execution_count": 127,
   "metadata": {},
   "outputs": [
    {
     "name": "stdout",
     "output_type": "stream",
     "text": [
      "60688.7\n"
     ]
    }
   ],
   "source": [
    "# Print the current balance of the stock and bond portion of the members portfolio\n",
    "print(total_stocks_bonds)\n"
   ]
  },
  {
   "cell_type": "code",
   "execution_count": 128,
   "metadata": {},
   "outputs": [
    {
     "name": "stdout",
     "output_type": "stream",
     "text": [
      "40632.075902531025\n",
      "98790.655147515\n"
     ]
    }
   ],
   "source": [
    "# Use the lower and upper `95%` confidence intervals to calculate the range of the possible outcomes for the current stock/bond portfolio\n",
    "ci_lower_ten_cumulative_return = MC_summary_stats_ten[8]*60688.7\n",
    "ci_upper_ten_cumulative_return = MC_summary_stats_ten[9]*60688.7\n",
    "\n",
    "# Print the result of your calculations\n",
    "print(ci_lower_ten_cumulative_return)\n",
    "print(ci_upper_ten_cumulative_return)\n"
   ]
  },
  {
   "cell_type": "markdown",
   "metadata": {},
   "source": [
    "#### Question: Will weighting the portfolio more heavily to stocks allow the credit union members to retire after only 10 years?"
   ]
  },
  {
   "cell_type": "raw",
   "metadata": {},
   "source": [
    "**Answer** # YOUR ANSWER HERE"
   ]
  },
  {
   "cell_type": "markdown",
   "metadata": {
    "tags": []
   },
   "source": [
    "I don't think they will be able to retire in ten years. There is a 95% chance that the initial investment over the next ten years will be between $40,632.08 and $98,790.66. "
   ]
  }
 ],
 "metadata": {
  "kernelspec": {
   "display_name": "Python 3 (ipykernel)",
   "language": "python",
   "name": "python3"
  },
  "language_info": {
   "codemirror_mode": {
    "name": "ipython",
    "version": 3
   },
   "file_extension": ".py",
   "mimetype": "text/x-python",
   "name": "python",
   "nbconvert_exporter": "python",
   "pygments_lexer": "ipython3",
   "version": "3.7.13"
  }
 },
 "nbformat": 4,
 "nbformat_minor": 4
}
